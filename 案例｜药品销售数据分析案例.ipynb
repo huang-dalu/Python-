{
 "cells": [
  {
   "cell_type": "markdown",
   "metadata": {},
   "source": [
    "本文主要用「药品销售数据集」来演示数据分析的基本流程和思路。\n",
    "\n",
    "### 数据分析常规流程\n",
    "\n",
    "常规流程更多是业务数据分析层面，需要涉及的内容。主要包括：\n",
    "\n",
    "> - 数据概览\n",
    ">   1. 数据基本信息查看\n",
    ">   2. 数据描述性信息\n",
    ">   3. 数据缺失值检查\n",
    ">   4. 数据重复值检查（部分字段的唯一性，例如：订单编号）\n",
    ">   5. 数据唯一性检查（例如：订单状态和系统需要契合）\n",
    ">\n",
    ">\n",
    "> - 数据清洗\n",
    ">   1. 选择数据子集\n",
    ">   2. 重复值处理\n",
    ">   3. 缺失值处理\n",
    ">   4. 特征选取\n",
    ">   5. 数据标准化\n",
    ">\n",
    ">\n",
    "> - 数据探索\n",
    ">   1. 单个字段列表时间维度分析\n",
    ">   2. 两个字段对比分析\n",
    ">   3. 两个分类对别分析\n",
    ">   4. 相关性分析\n",
    ">   5. 预测、分类\n",
    "\n",
    "\n",
    "以上是常规的数据分析需要涉及的内容。接下来以「药品数据集」为例，看看具体在案例中如何应用。\n",
    "\n",
    "\n",
    "### 分析目的\n",
    "\n",
    "- 数据源：朝阳医院 2018 年销售数据集\n",
    "- 数据字段：购药时间、社保卡号、商品编码、商品名称、销售数量、应收金额、实收金额\n",
    "- 分析目的：\n",
    "    1. 查看药品销售情况，需要分别了解：月均消费次数，月均消费金额、客单价\n",
    "    2. 查看消费趋势：每天/每月/每季度消费金额趋势情况\n",
    "    3. 查看整体数据中，销量最好的商品；在每个月中，销量最好的商品\n",
    "    4. 查看应收金额和实收金额的差距，是否有大的波动，还是属于平稳。如果有大的波动，是否是有其他原因引起\n",
    "    5. 消费次数是否有日期的规律\n",
    "\n",
    "### 案例"
   ]
  },
  {
   "cell_type": "code",
   "execution_count": 1,
   "metadata": {},
   "outputs": [
    {
     "ename": "FileNotFoundError",
     "evalue": "[Errno 2] No such file or directory: '/Users/huanglong/Documents/data/朝阳医院2018年销售数据.xlsx'",
     "output_type": "error",
     "traceback": [
      "\u001b[0;31m---------------------------------------------------------------------------\u001b[0m",
      "\u001b[0;31mFileNotFoundError\u001b[0m                         Traceback (most recent call last)",
      "\u001b[0;32m<ipython-input-1-44b2ae0d0dd6>\u001b[0m in \u001b[0;36m<module>\u001b[0;34m\u001b[0m\n\u001b[1;32m      4\u001b[0m \u001b[0mpd\u001b[0m\u001b[0;34m.\u001b[0m\u001b[0mset_option\u001b[0m\u001b[0;34m(\u001b[0m\u001b[0;34m'display.float_format'\u001b[0m\u001b[0;34m,\u001b[0m \u001b[0;32mlambda\u001b[0m \u001b[0mx\u001b[0m\u001b[0;34m:\u001b[0m \u001b[0;34m'%.2f'\u001b[0m \u001b[0;34m%\u001b[0m \u001b[0mx\u001b[0m\u001b[0;34m)\u001b[0m\u001b[0;34m\u001b[0m\u001b[0;34m\u001b[0m\u001b[0m\n\u001b[1;32m      5\u001b[0m \u001b[0;34m\u001b[0m\u001b[0m\n\u001b[0;32m----> 6\u001b[0;31m \u001b[0mdf\u001b[0m \u001b[0;34m=\u001b[0m \u001b[0mpd\u001b[0m\u001b[0;34m.\u001b[0m\u001b[0mread_excel\u001b[0m\u001b[0;34m(\u001b[0m\u001b[0;34m\"/Users/huanglong/Documents/data/朝阳医院2018年销售数据.xlsx\"\u001b[0m\u001b[0;34m)\u001b[0m\u001b[0;34m\u001b[0m\u001b[0;34m\u001b[0m\u001b[0m\n\u001b[0m\u001b[1;32m      7\u001b[0m \u001b[0mdf\u001b[0m\u001b[0;34m[\u001b[0m\u001b[0;34m'社保卡号'\u001b[0m\u001b[0;34m]\u001b[0m \u001b[0;34m=\u001b[0m \u001b[0mdf\u001b[0m\u001b[0;34m[\u001b[0m\u001b[0;34m'社保卡号'\u001b[0m\u001b[0;34m]\u001b[0m\u001b[0;34m.\u001b[0m\u001b[0mastype\u001b[0m\u001b[0;34m(\u001b[0m\u001b[0mnp\u001b[0m\u001b[0;34m.\u001b[0m\u001b[0mstr\u001b[0m\u001b[0;34m)\u001b[0m\u001b[0;34m\u001b[0m\u001b[0;34m\u001b[0m\u001b[0m\n\u001b[1;32m      8\u001b[0m \u001b[0mdf\u001b[0m\u001b[0;34m[\u001b[0m\u001b[0;34m'商品编码'\u001b[0m\u001b[0;34m]\u001b[0m \u001b[0;34m=\u001b[0m \u001b[0mdf\u001b[0m\u001b[0;34m[\u001b[0m\u001b[0;34m'商品编码'\u001b[0m\u001b[0;34m]\u001b[0m\u001b[0;34m.\u001b[0m\u001b[0mastype\u001b[0m\u001b[0;34m(\u001b[0m\u001b[0mnp\u001b[0m\u001b[0;34m.\u001b[0m\u001b[0mstr\u001b[0m\u001b[0;34m)\u001b[0m\u001b[0;34m\u001b[0m\u001b[0;34m\u001b[0m\u001b[0m\n",
      "\u001b[0;32m/Library/Frameworks/Python.framework/Versions/3.8/lib/python3.8/site-packages/pandas/io/excel/_base.py\u001b[0m in \u001b[0;36mread_excel\u001b[0;34m(io, sheet_name, header, names, index_col, usecols, squeeze, dtype, engine, converters, true_values, false_values, skiprows, nrows, na_values, keep_default_na, verbose, parse_dates, date_parser, thousands, comment, skipfooter, convert_float, mangle_dupe_cols, **kwds)\u001b[0m\n\u001b[1;32m    302\u001b[0m \u001b[0;34m\u001b[0m\u001b[0m\n\u001b[1;32m    303\u001b[0m     \u001b[0;32mif\u001b[0m \u001b[0;32mnot\u001b[0m \u001b[0misinstance\u001b[0m\u001b[0;34m(\u001b[0m\u001b[0mio\u001b[0m\u001b[0;34m,\u001b[0m \u001b[0mExcelFile\u001b[0m\u001b[0;34m)\u001b[0m\u001b[0;34m:\u001b[0m\u001b[0;34m\u001b[0m\u001b[0;34m\u001b[0m\u001b[0m\n\u001b[0;32m--> 304\u001b[0;31m         \u001b[0mio\u001b[0m \u001b[0;34m=\u001b[0m \u001b[0mExcelFile\u001b[0m\u001b[0;34m(\u001b[0m\u001b[0mio\u001b[0m\u001b[0;34m,\u001b[0m \u001b[0mengine\u001b[0m\u001b[0;34m=\u001b[0m\u001b[0mengine\u001b[0m\u001b[0;34m)\u001b[0m\u001b[0;34m\u001b[0m\u001b[0;34m\u001b[0m\u001b[0m\n\u001b[0m\u001b[1;32m    305\u001b[0m     \u001b[0;32melif\u001b[0m \u001b[0mengine\u001b[0m \u001b[0;32mand\u001b[0m \u001b[0mengine\u001b[0m \u001b[0;34m!=\u001b[0m \u001b[0mio\u001b[0m\u001b[0;34m.\u001b[0m\u001b[0mengine\u001b[0m\u001b[0;34m:\u001b[0m\u001b[0;34m\u001b[0m\u001b[0;34m\u001b[0m\u001b[0m\n\u001b[1;32m    306\u001b[0m         raise ValueError(\n",
      "\u001b[0;32m/Library/Frameworks/Python.framework/Versions/3.8/lib/python3.8/site-packages/pandas/io/excel/_base.py\u001b[0m in \u001b[0;36m__init__\u001b[0;34m(self, io, engine)\u001b[0m\n\u001b[1;32m    822\u001b[0m         \u001b[0mself\u001b[0m\u001b[0;34m.\u001b[0m\u001b[0m_io\u001b[0m \u001b[0;34m=\u001b[0m \u001b[0mstringify_path\u001b[0m\u001b[0;34m(\u001b[0m\u001b[0mio\u001b[0m\u001b[0;34m)\u001b[0m\u001b[0;34m\u001b[0m\u001b[0;34m\u001b[0m\u001b[0m\n\u001b[1;32m    823\u001b[0m \u001b[0;34m\u001b[0m\u001b[0m\n\u001b[0;32m--> 824\u001b[0;31m         \u001b[0mself\u001b[0m\u001b[0;34m.\u001b[0m\u001b[0m_reader\u001b[0m \u001b[0;34m=\u001b[0m \u001b[0mself\u001b[0m\u001b[0;34m.\u001b[0m\u001b[0m_engines\u001b[0m\u001b[0;34m[\u001b[0m\u001b[0mengine\u001b[0m\u001b[0;34m]\u001b[0m\u001b[0;34m(\u001b[0m\u001b[0mself\u001b[0m\u001b[0;34m.\u001b[0m\u001b[0m_io\u001b[0m\u001b[0;34m)\u001b[0m\u001b[0;34m\u001b[0m\u001b[0;34m\u001b[0m\u001b[0m\n\u001b[0m\u001b[1;32m    825\u001b[0m \u001b[0;34m\u001b[0m\u001b[0m\n\u001b[1;32m    826\u001b[0m     \u001b[0;32mdef\u001b[0m \u001b[0m__fspath__\u001b[0m\u001b[0;34m(\u001b[0m\u001b[0mself\u001b[0m\u001b[0;34m)\u001b[0m\u001b[0;34m:\u001b[0m\u001b[0;34m\u001b[0m\u001b[0;34m\u001b[0m\u001b[0m\n",
      "\u001b[0;32m/Library/Frameworks/Python.framework/Versions/3.8/lib/python3.8/site-packages/pandas/io/excel/_xlrd.py\u001b[0m in \u001b[0;36m__init__\u001b[0;34m(self, filepath_or_buffer)\u001b[0m\n\u001b[1;32m     19\u001b[0m         \u001b[0merr_msg\u001b[0m \u001b[0;34m=\u001b[0m \u001b[0;34m\"Install xlrd >= 1.0.0 for Excel support\"\u001b[0m\u001b[0;34m\u001b[0m\u001b[0;34m\u001b[0m\u001b[0m\n\u001b[1;32m     20\u001b[0m         \u001b[0mimport_optional_dependency\u001b[0m\u001b[0;34m(\u001b[0m\u001b[0;34m\"xlrd\"\u001b[0m\u001b[0;34m,\u001b[0m \u001b[0mextra\u001b[0m\u001b[0;34m=\u001b[0m\u001b[0merr_msg\u001b[0m\u001b[0;34m)\u001b[0m\u001b[0;34m\u001b[0m\u001b[0;34m\u001b[0m\u001b[0m\n\u001b[0;32m---> 21\u001b[0;31m         \u001b[0msuper\u001b[0m\u001b[0;34m(\u001b[0m\u001b[0;34m)\u001b[0m\u001b[0;34m.\u001b[0m\u001b[0m__init__\u001b[0m\u001b[0;34m(\u001b[0m\u001b[0mfilepath_or_buffer\u001b[0m\u001b[0;34m)\u001b[0m\u001b[0;34m\u001b[0m\u001b[0;34m\u001b[0m\u001b[0m\n\u001b[0m\u001b[1;32m     22\u001b[0m \u001b[0;34m\u001b[0m\u001b[0m\n\u001b[1;32m     23\u001b[0m     \u001b[0;34m@\u001b[0m\u001b[0mproperty\u001b[0m\u001b[0;34m\u001b[0m\u001b[0;34m\u001b[0m\u001b[0m\n",
      "\u001b[0;32m/Library/Frameworks/Python.framework/Versions/3.8/lib/python3.8/site-packages/pandas/io/excel/_base.py\u001b[0m in \u001b[0;36m__init__\u001b[0;34m(self, filepath_or_buffer)\u001b[0m\n\u001b[1;32m    351\u001b[0m             \u001b[0mself\u001b[0m\u001b[0;34m.\u001b[0m\u001b[0mbook\u001b[0m \u001b[0;34m=\u001b[0m \u001b[0mself\u001b[0m\u001b[0;34m.\u001b[0m\u001b[0mload_workbook\u001b[0m\u001b[0;34m(\u001b[0m\u001b[0mfilepath_or_buffer\u001b[0m\u001b[0;34m)\u001b[0m\u001b[0;34m\u001b[0m\u001b[0;34m\u001b[0m\u001b[0m\n\u001b[1;32m    352\u001b[0m         \u001b[0;32melif\u001b[0m \u001b[0misinstance\u001b[0m\u001b[0;34m(\u001b[0m\u001b[0mfilepath_or_buffer\u001b[0m\u001b[0;34m,\u001b[0m \u001b[0mstr\u001b[0m\u001b[0;34m)\u001b[0m\u001b[0;34m:\u001b[0m\u001b[0;34m\u001b[0m\u001b[0;34m\u001b[0m\u001b[0m\n\u001b[0;32m--> 353\u001b[0;31m             \u001b[0mself\u001b[0m\u001b[0;34m.\u001b[0m\u001b[0mbook\u001b[0m \u001b[0;34m=\u001b[0m \u001b[0mself\u001b[0m\u001b[0;34m.\u001b[0m\u001b[0mload_workbook\u001b[0m\u001b[0;34m(\u001b[0m\u001b[0mfilepath_or_buffer\u001b[0m\u001b[0;34m)\u001b[0m\u001b[0;34m\u001b[0m\u001b[0;34m\u001b[0m\u001b[0m\n\u001b[0m\u001b[1;32m    354\u001b[0m         \u001b[0;32melif\u001b[0m \u001b[0misinstance\u001b[0m\u001b[0;34m(\u001b[0m\u001b[0mfilepath_or_buffer\u001b[0m\u001b[0;34m,\u001b[0m \u001b[0mbytes\u001b[0m\u001b[0;34m)\u001b[0m\u001b[0;34m:\u001b[0m\u001b[0;34m\u001b[0m\u001b[0;34m\u001b[0m\u001b[0m\n\u001b[1;32m    355\u001b[0m             \u001b[0mself\u001b[0m\u001b[0;34m.\u001b[0m\u001b[0mbook\u001b[0m \u001b[0;34m=\u001b[0m \u001b[0mself\u001b[0m\u001b[0;34m.\u001b[0m\u001b[0mload_workbook\u001b[0m\u001b[0;34m(\u001b[0m\u001b[0mBytesIO\u001b[0m\u001b[0;34m(\u001b[0m\u001b[0mfilepath_or_buffer\u001b[0m\u001b[0;34m)\u001b[0m\u001b[0;34m)\u001b[0m\u001b[0;34m\u001b[0m\u001b[0;34m\u001b[0m\u001b[0m\n",
      "\u001b[0;32m/Library/Frameworks/Python.framework/Versions/3.8/lib/python3.8/site-packages/pandas/io/excel/_xlrd.py\u001b[0m in \u001b[0;36mload_workbook\u001b[0;34m(self, filepath_or_buffer)\u001b[0m\n\u001b[1;32m     34\u001b[0m             \u001b[0;32mreturn\u001b[0m \u001b[0mopen_workbook\u001b[0m\u001b[0;34m(\u001b[0m\u001b[0mfile_contents\u001b[0m\u001b[0;34m=\u001b[0m\u001b[0mdata\u001b[0m\u001b[0;34m)\u001b[0m\u001b[0;34m\u001b[0m\u001b[0;34m\u001b[0m\u001b[0m\n\u001b[1;32m     35\u001b[0m         \u001b[0;32melse\u001b[0m\u001b[0;34m:\u001b[0m\u001b[0;34m\u001b[0m\u001b[0;34m\u001b[0m\u001b[0m\n\u001b[0;32m---> 36\u001b[0;31m             \u001b[0;32mreturn\u001b[0m \u001b[0mopen_workbook\u001b[0m\u001b[0;34m(\u001b[0m\u001b[0mfilepath_or_buffer\u001b[0m\u001b[0;34m)\u001b[0m\u001b[0;34m\u001b[0m\u001b[0;34m\u001b[0m\u001b[0m\n\u001b[0m\u001b[1;32m     37\u001b[0m \u001b[0;34m\u001b[0m\u001b[0m\n\u001b[1;32m     38\u001b[0m     \u001b[0;34m@\u001b[0m\u001b[0mproperty\u001b[0m\u001b[0;34m\u001b[0m\u001b[0;34m\u001b[0m\u001b[0m\n",
      "\u001b[0;32m/Library/Frameworks/Python.framework/Versions/3.8/lib/python3.8/site-packages/xlrd/__init__.py\u001b[0m in \u001b[0;36mopen_workbook\u001b[0;34m(filename, logfile, verbosity, use_mmap, file_contents, encoding_override, formatting_info, on_demand, ragged_rows)\u001b[0m\n\u001b[1;32m    109\u001b[0m     \u001b[0;32melse\u001b[0m\u001b[0;34m:\u001b[0m\u001b[0;34m\u001b[0m\u001b[0;34m\u001b[0m\u001b[0m\n\u001b[1;32m    110\u001b[0m         \u001b[0mfilename\u001b[0m \u001b[0;34m=\u001b[0m \u001b[0mos\u001b[0m\u001b[0;34m.\u001b[0m\u001b[0mpath\u001b[0m\u001b[0;34m.\u001b[0m\u001b[0mexpanduser\u001b[0m\u001b[0;34m(\u001b[0m\u001b[0mfilename\u001b[0m\u001b[0;34m)\u001b[0m\u001b[0;34m\u001b[0m\u001b[0;34m\u001b[0m\u001b[0m\n\u001b[0;32m--> 111\u001b[0;31m         \u001b[0;32mwith\u001b[0m \u001b[0mopen\u001b[0m\u001b[0;34m(\u001b[0m\u001b[0mfilename\u001b[0m\u001b[0;34m,\u001b[0m \u001b[0;34m\"rb\"\u001b[0m\u001b[0;34m)\u001b[0m \u001b[0;32mas\u001b[0m \u001b[0mf\u001b[0m\u001b[0;34m:\u001b[0m\u001b[0;34m\u001b[0m\u001b[0;34m\u001b[0m\u001b[0m\n\u001b[0m\u001b[1;32m    112\u001b[0m             \u001b[0mpeek\u001b[0m \u001b[0;34m=\u001b[0m \u001b[0mf\u001b[0m\u001b[0;34m.\u001b[0m\u001b[0mread\u001b[0m\u001b[0;34m(\u001b[0m\u001b[0mpeeksz\u001b[0m\u001b[0;34m)\u001b[0m\u001b[0;34m\u001b[0m\u001b[0;34m\u001b[0m\u001b[0m\n\u001b[1;32m    113\u001b[0m     \u001b[0;32mif\u001b[0m \u001b[0mpeek\u001b[0m \u001b[0;34m==\u001b[0m \u001b[0;34mb\"PK\\x03\\x04\"\u001b[0m\u001b[0;34m:\u001b[0m \u001b[0;31m# a ZIP file\u001b[0m\u001b[0;34m\u001b[0m\u001b[0;34m\u001b[0m\u001b[0m\n",
      "\u001b[0;31mFileNotFoundError\u001b[0m: [Errno 2] No such file or directory: '/Users/huanglong/Documents/data/朝阳医院2018年销售数据.xlsx'"
     ]
    }
   ],
   "source": [
    "import numpy as np\n",
    "import pandas as pd\n",
    "from pandas import Series\n",
    "pd.set_option('display.float_format', lambda x: '%.2f' % x)\n",
    "\n",
    "df = pd.read_excel(\"/data/朝阳医院2018年销售数据.xlsx\")\n",
    "df['社保卡号'] = df['社保卡号'].astype(np.str)\n",
    "df['商品编码'] = df['商品编码'].astype(np.str)\n",
    "df.head()"
   ]
  },
  {
   "cell_type": "markdown",
   "metadata": {},
   "source": [
    "### 数据概览"
   ]
  },
  {
   "cell_type": "code",
   "execution_count": 2,
   "metadata": {},
   "outputs": [
    {
     "name": "stdout",
     "output_type": "stream",
     "text": [
      "<class 'pandas.core.frame.DataFrame'>\n",
      "RangeIndex: 6578 entries, 0 to 6577\n",
      "Data columns (total 7 columns):\n",
      " #   Column  Non-Null Count  Dtype  \n",
      "---  ------  --------------  -----  \n",
      " 0   购药时间    6576 non-null   object \n",
      " 1   社保卡号    6578 non-null   object \n",
      " 2   商品编码    6578 non-null   object \n",
      " 3   商品名称    6577 non-null   object \n",
      " 4   销售数量    6577 non-null   float64\n",
      " 5   应收金额    6577 non-null   float64\n",
      " 6   实收金额    6577 non-null   float64\n",
      "dtypes: float64(3), object(4)\n",
      "memory usage: 359.9+ KB\n",
      "None\n",
      "--------------\n",
      "         销售数量    应收金额    实收金额\n",
      "count 6577.00 6577.00 6577.00\n",
      "mean     2.39   50.47   46.32\n",
      "std      2.38   87.60   80.98\n",
      "min    -10.00 -374.00 -374.00\n",
      "25%      1.00   14.00   12.32\n",
      "50%      2.00   28.00   26.60\n",
      "75%      2.00   59.60   53.00\n",
      "max     50.00 2950.00 2650.00\n",
      "--------------\n",
      "购药时间    2\n",
      "社保卡号    0\n",
      "商品编码    0\n",
      "商品名称    1\n",
      "销售数量    1\n",
      "应收金额    1\n",
      "实收金额    1\n",
      "dtype: int64\n"
     ]
    }
   ],
   "source": [
    "#  数据基本信息\n",
    "print(df.info())\n",
    "print(\"--------------\")\n",
    "\n",
    "# 数据描述性统计\n",
    "print(df.describe())\n",
    "print(\"--------------\")\n",
    "\n",
    "# 数据缺失值查看\n",
    "print(df.isnull().sum())"
   ]
  },
  {
   "cell_type": "markdown",
   "metadata": {},
   "source": [
    "### 数据清洗"
   ]
  },
  {
   "cell_type": "code",
   "execution_count": 3,
   "metadata": {},
   "outputs": [
    {
     "data": {
      "text/html": [
       "<div>\n",
       "<style scoped>\n",
       "    .dataframe tbody tr th:only-of-type {\n",
       "        vertical-align: middle;\n",
       "    }\n",
       "\n",
       "    .dataframe tbody tr th {\n",
       "        vertical-align: top;\n",
       "    }\n",
       "\n",
       "    .dataframe thead th {\n",
       "        text-align: right;\n",
       "    }\n",
       "</style>\n",
       "<table border=\"1\" class=\"dataframe\">\n",
       "  <thead>\n",
       "    <tr style=\"text-align: right;\">\n",
       "      <th></th>\n",
       "      <th>销售时间</th>\n",
       "      <th>社保卡号</th>\n",
       "      <th>商品编码</th>\n",
       "      <th>商品名称</th>\n",
       "      <th>销售数量</th>\n",
       "      <th>应收金额</th>\n",
       "      <th>实收金额</th>\n",
       "      <th>month</th>\n",
       "      <th>星期时间</th>\n",
       "    </tr>\n",
       "  </thead>\n",
       "  <tbody>\n",
       "    <tr>\n",
       "      <th>0</th>\n",
       "      <td>2018-01-01</td>\n",
       "      <td>1616528.0</td>\n",
       "      <td>236701.0</td>\n",
       "      <td>强力VC银翘片</td>\n",
       "      <td>6.00</td>\n",
       "      <td>82.80</td>\n",
       "      <td>69.00</td>\n",
       "      <td>2018-01</td>\n",
       "      <td>星期五</td>\n",
       "    </tr>\n",
       "    <tr>\n",
       "      <th>1</th>\n",
       "      <td>2018-01-02</td>\n",
       "      <td>1616528.0</td>\n",
       "      <td>236701.0</td>\n",
       "      <td>清热解毒口服液</td>\n",
       "      <td>1.00</td>\n",
       "      <td>28.00</td>\n",
       "      <td>24.64</td>\n",
       "      <td>2018-01</td>\n",
       "      <td>星期六</td>\n",
       "    </tr>\n",
       "    <tr>\n",
       "      <th>2</th>\n",
       "      <td>2018-01-06</td>\n",
       "      <td>12602828.0</td>\n",
       "      <td>236701.0</td>\n",
       "      <td>感康</td>\n",
       "      <td>2.00</td>\n",
       "      <td>16.80</td>\n",
       "      <td>15.00</td>\n",
       "      <td>2018-01</td>\n",
       "      <td>星期三</td>\n",
       "    </tr>\n",
       "    <tr>\n",
       "      <th>3</th>\n",
       "      <td>2018-01-11</td>\n",
       "      <td>10070343428.0</td>\n",
       "      <td>236701.0</td>\n",
       "      <td>三九感冒灵</td>\n",
       "      <td>1.00</td>\n",
       "      <td>28.00</td>\n",
       "      <td>28.00</td>\n",
       "      <td>2018-01</td>\n",
       "      <td>星期一</td>\n",
       "    </tr>\n",
       "    <tr>\n",
       "      <th>4</th>\n",
       "      <td>2018-01-15</td>\n",
       "      <td>101554328.0</td>\n",
       "      <td>236701.0</td>\n",
       "      <td>三九感冒灵</td>\n",
       "      <td>8.00</td>\n",
       "      <td>224.00</td>\n",
       "      <td>208.00</td>\n",
       "      <td>2018-01</td>\n",
       "      <td>星期五</td>\n",
       "    </tr>\n",
       "  </tbody>\n",
       "</table>\n",
       "</div>"
      ],
      "text/plain": [
       "         销售时间           社保卡号      商品编码     商品名称  销售数量   应收金额   实收金额    month  \\\n",
       "0  2018-01-01      1616528.0  236701.0  强力VC银翘片  6.00  82.80  69.00  2018-01   \n",
       "1  2018-01-02      1616528.0  236701.0  清热解毒口服液  1.00  28.00  24.64  2018-01   \n",
       "2  2018-01-06     12602828.0  236701.0       感康  2.00  16.80  15.00  2018-01   \n",
       "3  2018-01-11  10070343428.0  236701.0    三九感冒灵  1.00  28.00  28.00  2018-01   \n",
       "4  2018-01-15    101554328.0  236701.0    三九感冒灵  8.00 224.00 208.00  2018-01   \n",
       "\n",
       "  星期时间  \n",
       "0  星期五  \n",
       "1  星期六  \n",
       "2  星期三  \n",
       "3  星期一  \n",
       "4  星期五  "
      ]
     },
     "execution_count": 3,
     "metadata": {},
     "output_type": "execute_result"
    }
   ],
   "source": [
    "# 缺失值处理：删除缺失行\n",
    "df = df.dropna()\n",
    "\n",
    "# 拆分购药时间字段\n",
    "df['month'] = df['购药时间'].str[0:7]\n",
    "df['星期时间'] = df['购药时间'].str[11:14]\n",
    "df['购药时间'] = df['购药时间'].str[0:10]\n",
    "\n",
    "# 使用rename函数，把\"购药时间\" 改为 \"销售时间\"\n",
    "df.rename(columns={'购药时间':'销售时间'}, inplace=True) \n",
    "df.head()"
   ]
  },
  {
   "cell_type": "code",
   "execution_count": 4,
   "metadata": {},
   "outputs": [
    {
     "name": "stdout",
     "output_type": "stream",
     "text": [
      "<class 'pandas.core.frame.DataFrame'>\n",
      "Int64Index: 6576 entries, 0 to 6577\n",
      "Data columns (total 9 columns):\n",
      " #   Column  Non-Null Count  Dtype         \n",
      "---  ------  --------------  -----         \n",
      " 0   销售时间    6553 non-null   datetime64[ns]\n",
      " 1   社保卡号    6576 non-null   object        \n",
      " 2   商品编码    6576 non-null   object        \n",
      " 3   商品名称    6576 non-null   object        \n",
      " 4   销售数量    6576 non-null   float64       \n",
      " 5   应收金额    6576 non-null   float64       \n",
      " 6   实收金额    6576 non-null   float64       \n",
      " 7   month   6576 non-null   object        \n",
      " 8   星期时间    6576 non-null   object        \n",
      "dtypes: datetime64[ns](1), float64(3), object(5)\n",
      "memory usage: 513.8+ KB\n"
     ]
    }
   ],
   "source": [
    "# 把销售时间转换为datetime格式。errors='coerce' 出现2月30日这种日期情况，仍然强制转换，并且该行的时间为NAN\n",
    "df['销售时间'] = pd.to_datetime(df['销售时间'],format='%Y-%m-%d',errors='coerce')\n",
    "df.info()"
   ]
  },
  {
   "cell_type": "code",
   "execution_count": 5,
   "metadata": {},
   "outputs": [
    {
     "data": {
      "text/html": [
       "<div>\n",
       "<style scoped>\n",
       "    .dataframe tbody tr th:only-of-type {\n",
       "        vertical-align: middle;\n",
       "    }\n",
       "\n",
       "    .dataframe tbody tr th {\n",
       "        vertical-align: top;\n",
       "    }\n",
       "\n",
       "    .dataframe thead th {\n",
       "        text-align: right;\n",
       "    }\n",
       "</style>\n",
       "<table border=\"1\" class=\"dataframe\">\n",
       "  <thead>\n",
       "    <tr style=\"text-align: right;\">\n",
       "      <th></th>\n",
       "      <th>销售时间</th>\n",
       "      <th>社保卡号</th>\n",
       "      <th>商品编码</th>\n",
       "      <th>商品名称</th>\n",
       "      <th>销售数量</th>\n",
       "      <th>应收金额</th>\n",
       "      <th>实收金额</th>\n",
       "      <th>month</th>\n",
       "      <th>星期时间</th>\n",
       "    </tr>\n",
       "  </thead>\n",
       "  <tbody>\n",
       "    <tr>\n",
       "      <th>0</th>\n",
       "      <td>2018-01-01</td>\n",
       "      <td>1616528.0</td>\n",
       "      <td>236701.0</td>\n",
       "      <td>强力VC银翘片</td>\n",
       "      <td>6.00</td>\n",
       "      <td>82.80</td>\n",
       "      <td>69.00</td>\n",
       "      <td>2018-01</td>\n",
       "      <td>星期五</td>\n",
       "    </tr>\n",
       "    <tr>\n",
       "      <th>1</th>\n",
       "      <td>2018-01-01</td>\n",
       "      <td>11743428.0</td>\n",
       "      <td>861405.0</td>\n",
       "      <td>苯磺酸氨氯地平片(络活喜)</td>\n",
       "      <td>1.00</td>\n",
       "      <td>34.50</td>\n",
       "      <td>31.00</td>\n",
       "      <td>2018-01</td>\n",
       "      <td>星期五</td>\n",
       "    </tr>\n",
       "    <tr>\n",
       "      <th>2</th>\n",
       "      <td>2018-01-01</td>\n",
       "      <td>103283128.0</td>\n",
       "      <td>861464.0</td>\n",
       "      <td>复方利血平片(复方降压片)</td>\n",
       "      <td>1.00</td>\n",
       "      <td>2.50</td>\n",
       "      <td>2.20</td>\n",
       "      <td>2018-01</td>\n",
       "      <td>星期五</td>\n",
       "    </tr>\n",
       "    <tr>\n",
       "      <th>3</th>\n",
       "      <td>2018-01-01</td>\n",
       "      <td>12697828.0</td>\n",
       "      <td>861464.0</td>\n",
       "      <td>复方利血平片(复方降压片)</td>\n",
       "      <td>4.00</td>\n",
       "      <td>10.00</td>\n",
       "      <td>9.40</td>\n",
       "      <td>2018-01</td>\n",
       "      <td>星期五</td>\n",
       "    </tr>\n",
       "    <tr>\n",
       "      <th>4</th>\n",
       "      <td>2018-01-01</td>\n",
       "      <td>107891628.0</td>\n",
       "      <td>868107.0</td>\n",
       "      <td>厄贝沙坦氢氯噻嗪片(安博诺)</td>\n",
       "      <td>1.00</td>\n",
       "      <td>38.80</td>\n",
       "      <td>35.00</td>\n",
       "      <td>2018-01</td>\n",
       "      <td>星期五</td>\n",
       "    </tr>\n",
       "  </tbody>\n",
       "</table>\n",
       "</div>"
      ],
      "text/plain": [
       "        销售时间         社保卡号      商品编码            商品名称  销售数量  应收金额  实收金额  \\\n",
       "0 2018-01-01    1616528.0  236701.0         强力VC银翘片  6.00 82.80 69.00   \n",
       "1 2018-01-01   11743428.0  861405.0   苯磺酸氨氯地平片(络活喜)  1.00 34.50 31.00   \n",
       "2 2018-01-01  103283128.0  861464.0   复方利血平片(复方降压片)  1.00  2.50  2.20   \n",
       "3 2018-01-01   12697828.0  861464.0   复方利血平片(复方降压片)  4.00 10.00  9.40   \n",
       "4 2018-01-01  107891628.0  868107.0  厄贝沙坦氢氯噻嗪片(安博诺)  1.00 38.80 35.00   \n",
       "\n",
       "     month 星期时间  \n",
       "0  2018-01  星期五  \n",
       "1  2018-01  星期五  \n",
       "2  2018-01  星期五  \n",
       "3  2018-01  星期五  \n",
       "4  2018-01  星期五  "
      ]
     },
     "execution_count": 5,
     "metadata": {},
     "output_type": "execute_result"
    }
   ],
   "source": [
    "# 删除销售时间为NAN的行\n",
    "df = df.dropna()\n",
    "\n",
    "# 重新按照销售时间升序\n",
    "df = df.sort_values(by='销售时间', ascending=True)\n",
    "\n",
    "# 重置索引\n",
    "df = df.reset_index(drop=True)\n",
    "\n",
    "# 取销售数量大于0的数据\n",
    "df = df[df['销售数量'] > 0]\n",
    "\n",
    "# 删除重复数据\n",
    "df = df.drop_duplicates(subset=['销售时间','社保卡号'])\n",
    "df.head()"
   ]
  },
  {
   "cell_type": "markdown",
   "metadata": {},
   "source": [
    "### 数据分析"
   ]
  },
  {
   "cell_type": "code",
   "execution_count": 6,
   "metadata": {},
   "outputs": [
    {
     "name": "stdout",
     "output_type": "stream",
     "text": [
      "月均消费单数: 1069\n",
      "--------------\n",
      "月均消费金额: 47216.0\n",
      "--------------\n",
      "客单价: 8.83\n"
     ]
    }
   ],
   "source": [
    "# 计算月均消费次数\n",
    "total = df.shape[0]\n",
    "startTime = df.loc[0,'销售时间']\n",
    "endTime = df.loc[total-1,'销售时间']\n",
    "\n",
    "# 计算数据一共的天数\n",
    "days = (endTime-startTime).days\n",
    "\n",
    "# 月份数：运算符\"//\"表示取整除，返回商的整数部分\n",
    "months = days // 30\n",
    "\n",
    "# 计算月均消费单数\n",
    "averageMonth = total // months\n",
    "print('月均消费单数:', averageMonth)\n",
    "print(\"--------------\")\n",
    "\n",
    "# 月均消费金额\n",
    "totalMoney = df['实收金额'].sum()\n",
    "monthMoney = totalMoney // months\n",
    "print('月均消费金额:', monthMoney)\n",
    "print(\"--------------\")\n",
    "\n",
    "\n",
    "# 客单价 = 总消费金额 / 总消费次数\n",
    "pct = totalMoney / total\n",
    "print('客单价:', round(pct,2))\n",
    "\n"
   ]
  },
  {
   "cell_type": "code",
   "execution_count": 7,
   "metadata": {},
   "outputs": [
    {
     "data": {
      "image/png": "[encoded data removed]",
      "text/plain": [
       "<Figure size 432x288 with 1 Axes>"
      ]
     },
     "metadata": {
      "needs_background": "light"
     },
     "output_type": "display_data"
    }
   ],
   "source": [
    "# 每天消费金额趋势\n",
    "import matplotlib.pyplot as plt\n",
    "%matplotlib inline\n",
    "plt.rcParams['font.family'] = ['Arial Unicode MS'] \n",
    "\n",
    "# 复制一份数据，避免后续错误\n",
    "groupDf = df\n",
    "\n",
    "# 将销售时间设为index，方便处理时间\n",
    "groupDf = groupDf.set_index('销售时间')\n",
    "\n",
    "plt.plot(groupDf['实收金额'])\n",
    "plt.title('按天消费金额图')\n",
    "plt.xlabel('时间')\n",
    "plt.ylabel('实收金额')\n",
    "plt.show()"
   ]
  },
  {
   "cell_type": "markdown",
   "metadata": {},
   "source": [
    "从每天的消费趋势图来看，把每天的实收金额放到一个周期（看起来是一周），有周期性波动。"
   ]
  },
  {
   "cell_type": "code",
   "execution_count": 8,
   "metadata": {},
   "outputs": [
    {
     "data": {
      "text/html": [
       "<div>\n",
       "<style scoped>\n",
       "    .dataframe tbody tr th:only-of-type {\n",
       "        vertical-align: middle;\n",
       "    }\n",
       "\n",
       "    .dataframe tbody tr th {\n",
       "        vertical-align: top;\n",
       "    }\n",
       "\n",
       "    .dataframe thead th {\n",
       "        text-align: right;\n",
       "    }\n",
       "</style>\n",
       "<table border=\"1\" class=\"dataframe\">\n",
       "  <thead>\n",
       "    <tr style=\"text-align: right;\">\n",
       "      <th></th>\n",
       "      <th>销售数量</th>\n",
       "      <th>应收金额</th>\n",
       "      <th>实收金额</th>\n",
       "    </tr>\n",
       "    <tr>\n",
       "      <th>销售时间</th>\n",
       "      <th></th>\n",
       "      <th></th>\n",
       "      <th></th>\n",
       "    </tr>\n",
       "  </thead>\n",
       "  <tbody>\n",
       "    <tr>\n",
       "      <th>1</th>\n",
       "      <td>1981.00</td>\n",
       "      <td>41318.30</td>\n",
       "      <td>37940.64</td>\n",
       "    </tr>\n",
       "    <tr>\n",
       "      <th>2</th>\n",
       "      <td>1458.00</td>\n",
       "      <td>31099.80</td>\n",
       "      <td>28499.67</td>\n",
       "    </tr>\n",
       "    <tr>\n",
       "      <th>3</th>\n",
       "      <td>1836.00</td>\n",
       "      <td>36403.00</td>\n",
       "      <td>33229.86</td>\n",
       "    </tr>\n",
       "    <tr>\n",
       "      <th>4</th>\n",
       "      <td>2467.00</td>\n",
       "      <td>42691.40</td>\n",
       "      <td>38111.36</td>\n",
       "    </tr>\n",
       "    <tr>\n",
       "      <th>5</th>\n",
       "      <td>1758.00</td>\n",
       "      <td>39933.00</td>\n",
       "      <td>36318.01</td>\n",
       "    </tr>\n",
       "    <tr>\n",
       "      <th>6</th>\n",
       "      <td>1860.00</td>\n",
       "      <td>42169.90</td>\n",
       "      <td>38784.95</td>\n",
       "    </tr>\n",
       "    <tr>\n",
       "      <th>7</th>\n",
       "      <td>1189.00</td>\n",
       "      <td>25260.90</td>\n",
       "      <td>23195.99</td>\n",
       "    </tr>\n",
       "  </tbody>\n",
       "</table>\n",
       "</div>"
      ],
      "text/plain": [
       "        销售数量     应收金额     实收金额\n",
       "销售时间                          \n",
       "1    1981.00 41318.30 37940.64\n",
       "2    1458.00 31099.80 28499.67\n",
       "3    1836.00 36403.00 33229.86\n",
       "4    2467.00 42691.40 38111.36\n",
       "5    1758.00 39933.00 36318.01\n",
       "6    1860.00 42169.90 38784.95\n",
       "7    1189.00 25260.90 23195.99"
      ]
     },
     "execution_count": 8,
     "metadata": {},
     "output_type": "execute_result"
    }
   ],
   "source": [
    "# 每月消费金额趋势\n",
    "# 将销售时间聚合按月分组\n",
    "mGroup = groupDf.groupby(groupDf.index.month)\n",
    "monthDf = mGroup.sum()\n",
    "monthDf"
   ]
  },
  {
   "cell_type": "code",
   "execution_count": 9,
   "metadata": {},
   "outputs": [
    {
     "data": {
      "image/png": "[encoded data removed]",
      "text/plain": [
       "<Figure size 432x288 with 1 Axes>"
      ]
     },
     "metadata": {
      "needs_background": "light"
     },
     "output_type": "display_data"
    }
   ],
   "source": [
    "# 描绘按月消费金额图\n",
    "plt.plot(monthDf['实收金额'])\n",
    "plt.title('按月消费金额图')\n",
    "plt.xlabel('月份')\n",
    "plt.ylabel('实收金额')\n",
    "plt.show()"
   ]
  },
  {
   "cell_type": "markdown",
   "metadata": {},
   "source": [
    "- 从上图的可以看到：6月的消费金额最多。另外因为7月数据不全，所以7月数据比较低。2月最低（估计2月是春节假期？）。\n",
    "- 顺便说下 df.index.quarter 用法，可以换成月度、季度等时间维度都可以，如果以时间维度看数据，使用比较方便。\n",
    "- 案例中直接查看季度数据，虽然季度数据不全，主要看下季度下的数据展示情况。"
   ]
  },
  {
   "cell_type": "code",
   "execution_count": 10,
   "metadata": {},
   "outputs": [
    {
     "data": {
      "text/html": [
       "<div>\n",
       "<style scoped>\n",
       "    .dataframe tbody tr th:only-of-type {\n",
       "        vertical-align: middle;\n",
       "    }\n",
       "\n",
       "    .dataframe tbody tr th {\n",
       "        vertical-align: top;\n",
       "    }\n",
       "\n",
       "    .dataframe thead th {\n",
       "        text-align: right;\n",
       "    }\n",
       "</style>\n",
       "<table border=\"1\" class=\"dataframe\">\n",
       "  <thead>\n",
       "    <tr style=\"text-align: right;\">\n",
       "      <th></th>\n",
       "      <th>销售数量</th>\n",
       "      <th>应收金额</th>\n",
       "      <th>实收金额</th>\n",
       "    </tr>\n",
       "    <tr>\n",
       "      <th>销售时间</th>\n",
       "      <th></th>\n",
       "      <th></th>\n",
       "      <th></th>\n",
       "    </tr>\n",
       "  </thead>\n",
       "  <tbody>\n",
       "    <tr>\n",
       "      <th>1</th>\n",
       "      <td>5275.00</td>\n",
       "      <td>108821.10</td>\n",
       "      <td>99670.17</td>\n",
       "    </tr>\n",
       "    <tr>\n",
       "      <th>2</th>\n",
       "      <td>6085.00</td>\n",
       "      <td>124794.30</td>\n",
       "      <td>113214.32</td>\n",
       "    </tr>\n",
       "    <tr>\n",
       "      <th>3</th>\n",
       "      <td>1189.00</td>\n",
       "      <td>25260.90</td>\n",
       "      <td>23195.99</td>\n",
       "    </tr>\n",
       "  </tbody>\n",
       "</table>\n",
       "</div>"
      ],
      "text/plain": [
       "        销售数量      应收金额      实收金额\n",
       "销售时间                            \n",
       "1    5275.00 108821.10  99670.17\n",
       "2    6085.00 124794.30 113214.32\n",
       "3    1189.00  25260.90  23195.99"
      ]
     },
     "execution_count": 10,
     "metadata": {},
     "output_type": "execute_result"
    }
   ],
   "source": [
    "# 每季度消费金额趋势\n",
    "quarter = groupDf.groupby(groupDf.index.quarter)\n",
    "quarterDf =  quarter.sum()\n",
    "quarterDf"
   ]
  },
  {
   "cell_type": "code",
   "execution_count": 11,
   "metadata": {},
   "outputs": [
    {
     "data": {
      "image/png": "[encoded data removed]",
      "text/plain": [
       "<Figure size 432x288 with 1 Axes>"
      ]
     },
     "metadata": {
      "needs_background": "light"
     },
     "output_type": "display_data"
    }
   ],
   "source": [
    "# 描绘按月消费金额图\n",
    "plt.plot(quarterDf['实收金额'])\n",
    "plt.title('按季度消费金额图')\n",
    "plt.xlabel('季度')\n",
    "plt.ylabel('实收金额')\n",
    "plt.show()"
   ]
  },
  {
   "cell_type": "code",
   "execution_count": 12,
   "metadata": {},
   "outputs": [
    {
     "data": {
      "text/html": [
       "<div>\n",
       "<style scoped>\n",
       "    .dataframe tbody tr th:only-of-type {\n",
       "        vertical-align: middle;\n",
       "    }\n",
       "\n",
       "    .dataframe tbody tr th {\n",
       "        vertical-align: top;\n",
       "    }\n",
       "\n",
       "    .dataframe thead th {\n",
       "        text-align: right;\n",
       "    }\n",
       "</style>\n",
       "<table border=\"1\" class=\"dataframe\">\n",
       "  <thead>\n",
       "    <tr style=\"text-align: right;\">\n",
       "      <th></th>\n",
       "      <th>销售数量</th>\n",
       "    </tr>\n",
       "    <tr>\n",
       "      <th>商品名称</th>\n",
       "      <th></th>\n",
       "    </tr>\n",
       "  </thead>\n",
       "  <tbody>\n",
       "    <tr>\n",
       "      <th>苯磺酸氨氯地平片(安内真)</th>\n",
       "      <td>1611.00</td>\n",
       "    </tr>\n",
       "    <tr>\n",
       "      <th>开博通</th>\n",
       "      <td>1232.00</td>\n",
       "    </tr>\n",
       "    <tr>\n",
       "      <th>酒石酸美托洛尔片(倍他乐克)</th>\n",
       "      <td>929.00</td>\n",
       "    </tr>\n",
       "    <tr>\n",
       "      <th>硝苯地平片(心痛定)</th>\n",
       "      <td>702.00</td>\n",
       "    </tr>\n",
       "    <tr>\n",
       "      <th>苯磺酸氨氯地平片(络活喜)</th>\n",
       "      <td>591.00</td>\n",
       "    </tr>\n",
       "    <tr>\n",
       "      <th>复方利血平片(复方降压片)</th>\n",
       "      <td>393.00</td>\n",
       "    </tr>\n",
       "    <tr>\n",
       "      <th>缬沙坦胶囊(代文)</th>\n",
       "      <td>375.00</td>\n",
       "    </tr>\n",
       "    <tr>\n",
       "      <th>G琥珀酸美托洛尔缓释片(倍他乐克)</th>\n",
       "      <td>350.00</td>\n",
       "    </tr>\n",
       "    <tr>\n",
       "      <th>非洛地平缓释片(波依定)</th>\n",
       "      <td>288.00</td>\n",
       "    </tr>\n",
       "    <tr>\n",
       "      <th>复方利血平氨苯蝶啶片(北京降压0号)</th>\n",
       "      <td>269.00</td>\n",
       "    </tr>\n",
       "  </tbody>\n",
       "</table>\n",
       "</div>"
      ],
      "text/plain": [
       "                      销售数量\n",
       "商品名称                      \n",
       "苯磺酸氨氯地平片(安内真)      1611.00\n",
       "开博通                1232.00\n",
       "酒石酸美托洛尔片(倍他乐克)      929.00\n",
       "硝苯地平片(心痛定)          702.00\n",
       "苯磺酸氨氯地平片(络活喜)       591.00\n",
       "复方利血平片(复方降压片)       393.00\n",
       "缬沙坦胶囊(代文)           375.00\n",
       "G琥珀酸美托洛尔缓释片(倍他乐克)   350.00\n",
       "非洛地平缓释片(波依定)        288.00\n",
       "复方利血平氨苯蝶啶片(北京降压0号)  269.00"
      ]
     },
     "execution_count": 12,
     "metadata": {},
     "output_type": "execute_result"
    }
   ],
   "source": [
    "# 对药品销售前10的情况\n",
    "\n",
    "\n",
    "# 聚合统计各种药品的销售数量\n",
    "medicine = groupDf[['商品名称','销售数量']]\n",
    "re_medicine = medicine.groupby('商品名称')[['销售数量']].sum()\n",
    "\n",
    "\n",
    "# 对药品销售数量按降序排序\n",
    "re_medicine = re_medicine.sort_values(by='销售数量',ascending=False)\n",
    "\n",
    "# 截取销售数量最多的十种药品\n",
    "top_medicine = re_medicine.iloc[:10,:]\n",
    "top_medicine"
   ]
  },
  {
   "cell_type": "code",
   "execution_count": 13,
   "metadata": {},
   "outputs": [
    {
     "data": {
      "text/html": [
       "<div>\n",
       "<style scoped>\n",
       "    .dataframe tbody tr th:only-of-type {\n",
       "        vertical-align: middle;\n",
       "    }\n",
       "\n",
       "    .dataframe tbody tr th {\n",
       "        vertical-align: top;\n",
       "    }\n",
       "\n",
       "    .dataframe thead th {\n",
       "        text-align: right;\n",
       "    }\n",
       "</style>\n",
       "<table border=\"1\" class=\"dataframe\">\n",
       "  <thead>\n",
       "    <tr style=\"text-align: right;\">\n",
       "      <th></th>\n",
       "      <th>商品名称</th>\n",
       "      <th>销售数量</th>\n",
       "    </tr>\n",
       "    <tr>\n",
       "      <th>month</th>\n",
       "      <th></th>\n",
       "      <th></th>\n",
       "    </tr>\n",
       "  </thead>\n",
       "  <tbody>\n",
       "    <tr>\n",
       "      <th>2018-01-31</th>\n",
       "      <td>高特灵</td>\n",
       "      <td>116</td>\n",
       "    </tr>\n",
       "    <tr>\n",
       "      <th>2018-02-28</th>\n",
       "      <td>高特灵</td>\n",
       "      <td>85</td>\n",
       "    </tr>\n",
       "    <tr>\n",
       "      <th>2018-03-31</th>\n",
       "      <td>高特灵</td>\n",
       "      <td>113</td>\n",
       "    </tr>\n",
       "    <tr>\n",
       "      <th>2018-04-30</th>\n",
       "      <td>高特灵</td>\n",
       "      <td>274</td>\n",
       "    </tr>\n",
       "    <tr>\n",
       "      <th>2018-05-31</th>\n",
       "      <td>高特灵</td>\n",
       "      <td>101</td>\n",
       "    </tr>\n",
       "    <tr>\n",
       "      <th>2018-06-30</th>\n",
       "      <td>高特灵</td>\n",
       "      <td>81</td>\n",
       "    </tr>\n",
       "    <tr>\n",
       "      <th>2018-07-31</th>\n",
       "      <td>高特灵</td>\n",
       "      <td>54</td>\n",
       "    </tr>\n",
       "  </tbody>\n",
       "</table>\n",
       "</div>"
      ],
      "text/plain": [
       "           商品名称  销售数量\n",
       "month                \n",
       "2018-01-31  高特灵   116\n",
       "2018-02-28  高特灵    85\n",
       "2018-03-31  高特灵   113\n",
       "2018-04-30  高特灵   274\n",
       "2018-05-31  高特灵   101\n",
       "2018-06-30  高特灵    81\n",
       "2018-07-31  高特灵    54"
      ]
     },
     "execution_count": 13,
     "metadata": {},
     "output_type": "execute_result"
    }
   ],
   "source": [
    "# 每个月销售最多的药品\n",
    "\n",
    "b = df.groupby(['month', '商品名称'])['销售数量'].count().reset_index()\n",
    "b['month'] = pd.to_datetime(b['month'])\n",
    "\n",
    "bdf = b.set_index('month')\n",
    "bdf.resample('m').max()"
   ]
  },
  {
   "cell_type": "markdown",
   "metadata": {},
   "source": [
    "每个月卖的得最多的药品是「高特灵」，查了下这是一种治疗高血压的药。所以看起来这个药每个月销量最高也很正常。"
   ]
  },
  {
   "cell_type": "code",
   "execution_count": 14,
   "metadata": {},
   "outputs": [
    {
     "data": {
      "image/png": "[encoded data removed]",
      "text/plain": [
       "<Figure size 432x288 with 1 Axes>"
      ]
     },
     "metadata": {
      "needs_background": "light"
     },
     "output_type": "display_data"
    }
   ],
   "source": [
    "# 用条形图展示销售数量前十的药品\n",
    "top_medicine.plot(kind='bar')\n",
    "plt.title('药品销售前10情况')\n",
    "plt.xlabel('药品种类')\n",
    "plt.ylabel('销售数量')\n",
    "plt.legend(loc=0)\n",
    "plt.show()"
   ]
  },
  {
   "cell_type": "code",
   "execution_count": 15,
   "metadata": {},
   "outputs": [
    {
     "data": {
      "image/png": "[encoded data removed]",
      "text/plain": [
       "<Figure size 432x288 with 1 Axes>"
      ]
     },
     "metadata": {
      "needs_background": "light"
     },
     "output_type": "display_data"
    }
   ],
   "source": [
    "# 应付与实付差额情况\n",
    "groupDf['balance'] = groupDf['应收金额'] - groupDf['实收金额']\n",
    "\n",
    "plt.plot(groupDf['balance'])\n",
    "plt.title('应付-实付差额')\n",
    "plt.xlabel('时间')\n",
    "plt.ylabel('差额')\n",
    "plt.show()"
   ]
  },
  {
   "cell_type": "markdown",
   "metadata": {},
   "source": [
    "差额基本比较稳定，但是有一些差额巨大的极端情况出现，这里做具体业务需要查看对应明细，找到原因。"
   ]
  },
  {
   "cell_type": "code",
   "execution_count": 16,
   "metadata": {},
   "outputs": [
    {
     "data": {
      "image/png": "[encoded data removed]",
      "text/plain": [
       "<Figure size 432x288 with 1 Axes>"
      ]
     },
     "metadata": {
      "needs_background": "light"
     },
     "output_type": "display_data"
    }
   ],
   "source": [
    "# 每周销售最多的商品数量\n",
    "# 按照每周销售的药品情况进行分组\n",
    "week = groupDf.groupby('星期时间')['销售数量'].count().reset_index()\n",
    "\n",
    "# barn可视化展示\n",
    "week.plot('星期时间','销售数量',kind='barh')\n",
    "plt.title('按周划分-购买药品数量情况')\n",
    "plt.xlabel('销售数量')\n",
    "plt.ylabel('星期时间')\n",
    "plt.legend(loc=0)\n",
    "plt.show()"
   ]
  },
  {
   "cell_type": "markdown",
   "metadata": {},
   "source": [
    "从数据上来看，每周五购买药品数量最多，很多是选在周末前购买，这个数据基本和实际用户行为吻合。"
   ]
  }
 ],
 "metadata": {
  "kernelspec": {
   "display_name": "Python 3",
   "language": "python",
   "name": "python3"
  },
  "language_info": {
   "codemirror_mode": {
    "name": "ipython",
    "version": 3
   },
   "file_extension": ".py",
   "mimetype": "text/x-python",
   "name": "python",
   "nbconvert_exporter": "python",
   "pygments_lexer": "ipython3",
   "version": "3.8.2"
  },
  "toc": {
   "base_numbering": 1,
   "nav_menu": {},
   "number_sections": true,
   "sideBar": true,
   "skip_h1_title": false,
   "title_cell": "Table of Contents",
   "title_sidebar": "Contents",
   "toc_cell": false,
   "toc_position": {},
   "toc_section_display": true,
   "toc_window_display": true
  }
 },
 "nbformat": 4,
 "nbformat_minor": 4
}

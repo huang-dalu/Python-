{
 "cells": [
  {
   "cell_type": "markdown",
   "metadata": {},
   "source": [
    "### 数据挖掘流程说明\n",
    "\n",
    "流程分为：导入数据、数据预处理、数据分析展示、数据建模、模型评估、模型应用。本文简单用案例来演示整个流程。\n",
    "\n",
    "其中用到的数据模型是 linear_model：使用线性回归方法库。这里只是用线性回归模型作为演示\n",
    "\n",
    "\n",
    "\n",
    "### 案例\n",
    "\n",
    "问题：案例场景：每个销售型公司都有一定的促销费用，促销费用可以带来销售量的显著提升。当给出一定的促销费用时，预计会带来多大的商品销售量？"
   ]
  },
  {
   "cell_type": "code",
   "execution_count": 42,
   "metadata": {},
   "outputs": [],
   "source": [
    "# 导入库\n",
    "import re\n",
    "import numpy\n",
    "from sklearn import linear_model\n",
    "from matplotlib import pyplot as plt"
   ]
  },
  {
   "cell_type": "code",
   "execution_count": 43,
   "metadata": {},
   "outputs": [],
   "source": [
    "# 导入数据\n",
    "fn = open('/data.txt', 'r')\n",
    "all_data = fn.readlines()\n",
    "fn.close()"
   ]
  },
  {
   "cell_type": "code",
   "execution_count": 50,
   "metadata": {},
   "outputs": [],
   "source": [
    "# 数据预处理\n",
    "x_train = []\n",
    "y_train = []\n",
    "for single_data in all_data:\n",
    "    tmp_data = re.split('\\t|\\n', single_data)\n",
    "    x_train.append(float(tmp_data[0]))\n",
    "    y_train.append(float(tmp_data[1]))\n",
    "\n",
    "x_train = numpy.array(x).reshape([100, 1])\n",
    "y_train = numpy.array(y).reshape([100, 1])"
   ]
  },
  {
   "cell_type": "markdown",
   "metadata": {},
   "source": [
    "将数据分为 x_train，y_train 数组，也就是把 x_train 作为特征，把 y_train 作为标签。这里是直接把全部数据集作为训练组，方便后续模型训练"
   ]
  },
  {
   "cell_type": "code",
   "execution_count": 45,
   "metadata": {},
   "outputs": [
    {
     "data": {
      "image/png": "[encoded data removed]",
      "text/plain": [
       "<Figure size 432x288 with 1 Axes>"
      ]
     },
     "metadata": {
      "needs_background": "light"
     },
     "output_type": "display_data"
    }
   ],
   "source": [
    "# 数据分析展示\n",
    "plt.scatter(x_train, y_train)\n",
    "plt.show()"
   ]
  },
  {
   "cell_type": "markdown",
   "metadata": {},
   "source": [
    "通过散点图发现，x_train 与 y_train 的关系呈现明显的线性关系：当 x_train 增大时，y_train 增大；当 x_train 减小时，y_train 减小。初步判断可以选择线性回归进行模型拟合。"
   ]
  },
  {
   "cell_type": "code",
   "execution_count": 51,
   "metadata": {},
   "outputs": [
    {
     "data": {
      "text/plain": [
       "LinearRegression(copy_X=True, fit_intercept=True, n_jobs=None, normalize=False)"
      ]
     },
     "execution_count": 51,
     "metadata": {},
     "output_type": "execute_result"
    }
   ],
   "source": [
    "# 数据建模\n",
    "model = linear_model.LinearRegression()\n",
    "model.fit(x_train, y_train)"
   ]
  },
  {
   "cell_type": "code",
   "execution_count": 57,
   "metadata": {},
   "outputs": [
    {
     "name": "stdout",
     "output_type": "stream",
     "text": [
      "[[2.09463661]] [13175.36904199] 0.7876414684758954\n"
     ]
    }
   ],
   "source": [
    "# 模型评估\n",
    "\n",
    "# 获取模型自变量的系数\n",
    "model_coef = model.coef_\n",
    "\n",
    "# 获取模型截距\n",
    "model_intercept = model.intercept_\n",
    "\n",
    "# r2_score 模型评估得分\n",
    "r2 = model.score(x_train, y_train)\n",
    "print(model_coef,model_intercept,r2)"
   ]
  },
  {
   "cell_type": "markdown",
   "metadata": {},
   "source": [
    "通过上述步骤我们可以获得线性回归方程 y = model_coef * x + model_intercept，即 y= 2.09463661 * x + 13175.36904199"
   ]
  },
  {
   "cell_type": "code",
   "execution_count": 61,
   "metadata": {},
   "outputs": [
    {
     "name": "stdout",
     "output_type": "stream",
     "text": [
      "[[190402.57234225]]\n"
     ]
    }
   ],
   "source": [
    "# 模型应用，销售预测\n",
    "\n",
    "# 假设促销费用是84610\n",
    "new_x = 84610\n",
    "pre_y = model.predict([[new_x]])\n",
    "print (pre_y)"
   ]
  },
  {
   "cell_type": "markdown",
   "metadata": {},
   "source": [
    "new_x = 84610的作用是创建促销费用常量，用来做预测时的输入。代码pre_y=model.predict(new_x)的作用是将促销费用常量new_x输入模型进行预测，将预测结果赋值为pre_y，这就是预测的销售量。为了符合实际销量必须是整数的特点，后续可以对该数据做四舍五入。\n",
    "\n",
    "到这里，就使用了简单的二维数组，使用线性回归模型，在没有调参的情况下，得出了预测值。\n",
    "\n",
    "在实际运用中，还会遇到例如：\n",
    "1. 数据是多维的情况，也就是特征值比较多的情况；\n",
    "2. 数据量比较大，且数据类型不统一，那就需要对数据进行处理、数据标准化相关操作。也包括一些缺失值、异常值、重复值的处理；\n",
    "3. 模型评估、模型得分环节，在实际情况中的选择更复杂，评估模式更加多样。\n",
    "\n",
    "该案例来源于《Python数据分析与数据化运营》这本书，感兴趣的同学可以看看，全书内容比较实用。"
   ]
  }
 ],
 "metadata": {
  "kernelspec": {
   "display_name": "Python 3",
   "language": "python",
   "name": "python3"
  },
  "language_info": {
   "codemirror_mode": {
    "name": "ipython",
    "version": 3
   },
   "file_extension": ".py",
   "mimetype": "text/x-python",
   "name": "python",
   "nbconvert_exporter": "python",
   "pygments_lexer": "ipython3",
   "version": "3.8.2"
  },
  "toc": {
   "base_numbering": 1,
   "nav_menu": {},
   "number_sections": true,
   "sideBar": true,
   "skip_h1_title": false,
   "title_cell": "Table of Contents",
   "title_sidebar": "Contents",
   "toc_cell": false,
   "toc_position": {},
   "toc_section_display": true,
   "toc_window_display": true
  }
 },
 "nbformat": 4,
 "nbformat_minor": 4
}

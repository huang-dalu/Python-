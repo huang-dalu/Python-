{
 "cells": [
  {
   "cell_type": "markdown",
   "metadata": {},
   "source": [
    "## 数据分析目的"
   ]
  },
  {
   "cell_type": "code",
   "execution_count": 3,
   "metadata": {},
   "outputs": [],
   "source": [
    "import pandas as pd\n",
    "import numpy as np\n",
    "import os\n",
    "import matplotlib.pyplot as plt\n",
    "%matplotlib inline\n",
    "plt.rcParams['font.family'] = ['Arial Unicode MS'] "
   ]
  },
  {
   "cell_type": "code",
   "execution_count": 4,
   "metadata": {},
   "outputs": [],
   "source": [
    "os.chdir('/data/RFM')"
   ]
  },
  {
   "cell_type": "code",
   "execution_count": 5,
   "metadata": {},
   "outputs": [
    {
     "data": {
      "text/html": [
       "<div>\n",
       "<style scoped>\n",
       "    .dataframe tbody tr th:only-of-type {\n",
       "        vertical-align: middle;\n",
       "    }\n",
       "\n",
       "    .dataframe tbody tr th {\n",
       "        vertical-align: top;\n",
       "    }\n",
       "\n",
       "    .dataframe thead th {\n",
       "        text-align: right;\n",
       "    }\n",
       "</style>\n",
       "<table border=\"1\" class=\"dataframe\">\n",
       "  <thead>\n",
       "    <tr style=\"text-align: right;\">\n",
       "      <th></th>\n",
       "      <th>买家昵称</th>\n",
       "      <th>付款日期</th>\n",
       "      <th>订单状态</th>\n",
       "      <th>实付金额</th>\n",
       "      <th>购买数量</th>\n",
       "    </tr>\n",
       "  </thead>\n",
       "  <tbody>\n",
       "    <tr>\n",
       "      <th>0</th>\n",
       "      <td>叫我李2</td>\n",
       "      <td>2019/1/1 0:17</td>\n",
       "      <td>交易成功</td>\n",
       "      <td>186</td>\n",
       "      <td>1</td>\n",
       "    </tr>\n",
       "    <tr>\n",
       "      <th>1</th>\n",
       "      <td>0cyb1992</td>\n",
       "      <td>2019/1/1 0:59</td>\n",
       "      <td>交易成功</td>\n",
       "      <td>145</td>\n",
       "      <td>1</td>\n",
       "    </tr>\n",
       "    <tr>\n",
       "      <th>2</th>\n",
       "      <td>萝污萌莉</td>\n",
       "      <td>2019/1/1 7:48</td>\n",
       "      <td>交易成功</td>\n",
       "      <td>194</td>\n",
       "      <td>1</td>\n",
       "    </tr>\n",
       "    <tr>\n",
       "      <th>3</th>\n",
       "      <td>atblovemyy</td>\n",
       "      <td>2019/1/1 9:15</td>\n",
       "      <td>付款以后用户退款成功，交易自动关闭</td>\n",
       "      <td>84</td>\n",
       "      <td>1</td>\n",
       "    </tr>\n",
       "    <tr>\n",
       "      <th>4</th>\n",
       "      <td>小星期鱼</td>\n",
       "      <td>2019/1/1 9:59</td>\n",
       "      <td>付款以后用户退款成功，交易自动关闭</td>\n",
       "      <td>74</td>\n",
       "      <td>1</td>\n",
       "    </tr>\n",
       "  </tbody>\n",
       "</table>\n",
       "</div>"
      ],
      "text/plain": [
       "         买家昵称           付款日期               订单状态  实付金额  购买数量\n",
       "0        叫我李2  2019/1/1 0:17               交易成功   186     1\n",
       "1    0cyb1992  2019/1/1 0:59               交易成功   145     1\n",
       "2        萝污萌莉  2019/1/1 7:48               交易成功   194     1\n",
       "3  atblovemyy  2019/1/1 9:15  付款以后用户退款成功，交易自动关闭    84     1\n",
       "4        小星期鱼  2019/1/1 9:59  付款以后用户退款成功，交易自动关闭    74     1"
      ]
     },
     "execution_count": 5,
     "metadata": {},
     "output_type": "execute_result"
    }
   ],
   "source": [
    "df = pd.read_csv('PYTHON-RFM实战数据.csv', usecols=['买家昵称', '付款日期', '订单状态', '实付金额', '购买数量' ])\n",
    "df.head()"
   ]
  },
  {
   "cell_type": "markdown",
   "metadata": {},
   "source": [
    "## 数据源解释\n",
    "- 数据文本是 2019/09/01 拉取的一份数据\n",
    "- 没一行代表一笔订单，一个买家昵称可以产生多行订单\n",
    "- 订单类型包括“交易成功”以及其他订单类型"
   ]
  },
  {
   "cell_type": "markdown",
   "metadata": {},
   "source": [
    "## 数据信息概览\n",
    "### 数据类型\n",
    "\n"
   ]
  },
  {
   "cell_type": "code",
   "execution_count": 6,
   "metadata": {
    "scrolled": true
   },
   "outputs": [
    {
     "name": "stdout",
     "output_type": "stream",
     "text": [
      "<class 'pandas.core.frame.DataFrame'>\n",
      "RangeIndex: 28833 entries, 0 to 28832\n",
      "Data columns (total 5 columns):\n",
      "买家昵称    28833 non-null object\n",
      "付款日期    28833 non-null object\n",
      "订单状态    28833 non-null object\n",
      "实付金额    28833 non-null int64\n",
      "购买数量    28833 non-null int64\n",
      "dtypes: int64(2), object(3)\n",
      "memory usage: 1.1+ MB\n"
     ]
    }
   ],
   "source": [
    "# 数据类型\n",
    "df.info()"
   ]
  },
  {
   "cell_type": "markdown",
   "metadata": {},
   "source": [
    "### 数据大小/数据量"
   ]
  },
  {
   "cell_type": "code",
   "execution_count": 7,
   "metadata": {},
   "outputs": [
    {
     "data": {
      "text/plain": [
       "(28833, 5)"
      ]
     },
     "execution_count": 7,
     "metadata": {},
     "output_type": "execute_result"
    }
   ],
   "source": [
    "# 数据行、列数量\n",
    "df.shape"
   ]
  },
  {
   "cell_type": "markdown",
   "metadata": {},
   "source": [
    "### 数据检查：缺省值"
   ]
  },
  {
   "cell_type": "code",
   "execution_count": 8,
   "metadata": {
    "scrolled": true
   },
   "outputs": [
    {
     "data": {
      "text/plain": [
       "买家昵称    0\n",
       "付款日期    0\n",
       "订单状态    0\n",
       "实付金额    0\n",
       "购买数量    0\n",
       "dtype: int64"
      ]
     },
     "execution_count": 8,
     "metadata": {},
     "output_type": "execute_result"
    }
   ],
   "source": [
    "#  查看每一列缺失值情况，城市一列存在缺失情况\n",
    "df.isnull().sum()"
   ]
  },
  {
   "cell_type": "markdown",
   "metadata": {},
   "source": [
    "### 数据检查：数据唯一性"
   ]
  },
  {
   "cell_type": "code",
   "execution_count": 9,
   "metadata": {
    "code_folding": []
   },
   "outputs": [
    {
     "data": {
      "text/plain": [
       "array(['交易成功', '付款以后用户退款成功，交易自动关闭'], dtype=object)"
      ]
     },
     "execution_count": 9,
     "metadata": {},
     "output_type": "execute_result"
    }
   ],
   "source": [
    "# 检查订单状态唯一性，发现订单状态有两种类型：交易成功；交易自动关闭\n",
    "df['订单状态'].unique()"
   ]
  },
  {
   "cell_type": "markdown",
   "metadata": {},
   "source": [
    "### 数据检查：重复值"
   ]
  },
  {
   "cell_type": "code",
   "execution_count": 10,
   "metadata": {},
   "outputs": [
    {
     "data": {
      "text/plain": [
       "2884"
      ]
     },
     "execution_count": 10,
     "metadata": {},
     "output_type": "execute_result"
    }
   ],
   "source": [
    "# 查看‘买家昵称’这一列，有2884条重复值\n",
    "df.duplicated('买家昵称').sum()"
   ]
  },
  {
   "cell_type": "markdown",
   "metadata": {},
   "source": [
    "### 数据检查：异常值"
   ]
  },
  {
   "cell_type": "code",
   "execution_count": 11,
   "metadata": {},
   "outputs": [
    {
     "data": {
      "text/plain": [
       "<matplotlib.axes._subplots.AxesSubplot at 0x11b500990>"
      ]
     },
     "execution_count": 11,
     "metadata": {},
     "output_type": "execute_result"
    },
    {
     "data": {
      "image/png": "[encoded data removed]",
      "text/plain": [
       "<Figure size 432x288 with 1 Axes>"
      ]
     },
     "metadata": {
      "needs_background": "light"
     },
     "output_type": "display_data"
    }
   ],
   "source": [
    "# 观测购买数量和实付金额对应的异常值，可以基于业务考虑来看是否需要删除或者做其他处理。本例中异常值较少，样本量，可以考虑直接删除\n",
    "df.plot(kind='scatter',x='购买数量',y='实付金额'  )"
   ]
  },
  {
   "cell_type": "markdown",
   "metadata": {},
   "source": [
    "## 数据整理"
   ]
  },
  {
   "cell_type": "markdown",
   "metadata": {},
   "source": [
    "### 选取需要字段/类型"
   ]
  },
  {
   "cell_type": "code",
   "execution_count": 12,
   "metadata": {},
   "outputs": [
    {
     "data": {
      "text/html": [
       "<div>\n",
       "<style scoped>\n",
       "    .dataframe tbody tr th:only-of-type {\n",
       "        vertical-align: middle;\n",
       "    }\n",
       "\n",
       "    .dataframe tbody tr th {\n",
       "        vertical-align: top;\n",
       "    }\n",
       "\n",
       "    .dataframe thead th {\n",
       "        text-align: right;\n",
       "    }\n",
       "</style>\n",
       "<table border=\"1\" class=\"dataframe\">\n",
       "  <thead>\n",
       "    <tr style=\"text-align: right;\">\n",
       "      <th></th>\n",
       "      <th>买家昵称</th>\n",
       "      <th>订单状态</th>\n",
       "      <th>付款日期</th>\n",
       "      <th>实付金额</th>\n",
       "      <th>购买数量</th>\n",
       "    </tr>\n",
       "  </thead>\n",
       "  <tbody>\n",
       "    <tr>\n",
       "      <th>0</th>\n",
       "      <td>叫我李2</td>\n",
       "      <td>交易成功</td>\n",
       "      <td>2019/1/1 0:17</td>\n",
       "      <td>186</td>\n",
       "      <td>1</td>\n",
       "    </tr>\n",
       "    <tr>\n",
       "      <th>1</th>\n",
       "      <td>0cyb1992</td>\n",
       "      <td>交易成功</td>\n",
       "      <td>2019/1/1 0:59</td>\n",
       "      <td>145</td>\n",
       "      <td>1</td>\n",
       "    </tr>\n",
       "    <tr>\n",
       "      <th>2</th>\n",
       "      <td>萝污萌莉</td>\n",
       "      <td>交易成功</td>\n",
       "      <td>2019/1/1 7:48</td>\n",
       "      <td>194</td>\n",
       "      <td>1</td>\n",
       "    </tr>\n",
       "    <tr>\n",
       "      <th>5</th>\n",
       "      <td>重碎叠</td>\n",
       "      <td>交易成功</td>\n",
       "      <td>2019/1/1 10:00</td>\n",
       "      <td>197</td>\n",
       "      <td>1</td>\n",
       "    </tr>\n",
       "    <tr>\n",
       "      <th>6</th>\n",
       "      <td>iho_jann</td>\n",
       "      <td>交易成功</td>\n",
       "      <td>2019/1/1 10:00</td>\n",
       "      <td>168</td>\n",
       "      <td>1</td>\n",
       "    </tr>\n",
       "  </tbody>\n",
       "</table>\n",
       "</div>"
      ],
      "text/plain": [
       "       买家昵称  订单状态            付款日期  实付金额  购买数量\n",
       "0      叫我李2  交易成功   2019/1/1 0:17   186     1\n",
       "1  0cyb1992  交易成功   2019/1/1 0:59   145     1\n",
       "2      萝污萌莉  交易成功   2019/1/1 7:48   194     1\n",
       "5       重碎叠  交易成功  2019/1/1 10:00   197     1\n",
       "6  iho_jann  交易成功  2019/1/1 10:00   168     1"
      ]
     },
     "execution_count": 12,
     "metadata": {},
     "output_type": "execute_result"
    }
   ],
   "source": [
    "# 选取需要的字段\n",
    "df = df[['买家昵称', '订单状态', '付款日期', '实付金额', '购买数量']]\n",
    "\n",
    "# 只选取交易成功类型\n",
    "df = df[df['订单状态'] == '交易成功']\n",
    "df.head()"
   ]
  },
  {
   "cell_type": "markdown",
   "metadata": {},
   "source": [
    "### 处理异常值"
   ]
  },
  {
   "cell_type": "code",
   "execution_count": 13,
   "metadata": {
    "code_folding": []
   },
   "outputs": [
    {
     "data": {
      "text/plain": [
       "<matplotlib.axes._subplots.AxesSubplot at 0x11bd24dd0>"
      ]
     },
     "execution_count": 13,
     "metadata": {},
     "output_type": "execute_result"
    },
    {
     "data": {
      "image/png": "[encoded data removed]",
      "text/plain": [
       "<Figure size 432x288 with 1 Axes>"
      ]
     },
     "metadata": {
      "needs_background": "light"
     },
     "output_type": "display_data"
    }
   ],
   "source": [
    "# 根据业务经验，对购买数量和实付金额做数据处理。去掉异常值后数据显示合理\n",
    "df = df[df['购买数量'] < 40]\n",
    "df = df[df['实付金额'] < 3000]\n",
    "df.plot(kind='scatter',x='购买数量',y='实付金额')"
   ]
  },
  {
   "cell_type": "markdown",
   "metadata": {},
   "source": [
    "### 处理数据类型"
   ]
  },
  {
   "cell_type": "code",
   "execution_count": 14,
   "metadata": {},
   "outputs": [
    {
     "name": "stdout",
     "output_type": "stream",
     "text": [
      "<class 'pandas.core.frame.DataFrame'>\n",
      "Int64Index: 27786 entries, 0 to 28832\n",
      "Data columns (total 5 columns):\n",
      "买家昵称    27786 non-null object\n",
      "订单状态    27786 non-null object\n",
      "付款日期    27786 non-null datetime64[ns]\n",
      "实付金额    27786 non-null int64\n",
      "购买数量    27786 non-null int64\n",
      "dtypes: datetime64[ns](1), int64(2), object(2)\n",
      "memory usage: 1.3+ MB\n"
     ]
    }
   ],
   "source": [
    "# 把付款日期由字符串转换成datetime类型\n",
    "df['付款日期'] = pd.to_datetime(df['付款日期'])\n",
    "df.info()"
   ]
  },
  {
   "cell_type": "markdown",
   "metadata": {},
   "source": [
    "## 数据探索"
   ]
  },
  {
   "cell_type": "code",
   "execution_count": 15,
   "metadata": {},
   "outputs": [
    {
     "data": {
      "text/html": [
       "<div>\n",
       "<style scoped>\n",
       "    .dataframe tbody tr th:only-of-type {\n",
       "        vertical-align: middle;\n",
       "    }\n",
       "\n",
       "    .dataframe tbody tr th {\n",
       "        vertical-align: top;\n",
       "    }\n",
       "\n",
       "    .dataframe thead th {\n",
       "        text-align: right;\n",
       "    }\n",
       "</style>\n",
       "<table border=\"1\" class=\"dataframe\">\n",
       "  <thead>\n",
       "    <tr style=\"text-align: right;\">\n",
       "      <th></th>\n",
       "      <th>买家昵称</th>\n",
       "      <th>r</th>\n",
       "      <th>f</th>\n",
       "      <th>m</th>\n",
       "    </tr>\n",
       "  </thead>\n",
       "  <tbody>\n",
       "    <tr>\n",
       "      <th>0</th>\n",
       "      <td>.blue_ram</td>\n",
       "      <td>146</td>\n",
       "      <td>1</td>\n",
       "      <td>49.0</td>\n",
       "    </tr>\n",
       "    <tr>\n",
       "      <th>1</th>\n",
       "      <td>.christiny</td>\n",
       "      <td>152</td>\n",
       "      <td>1</td>\n",
       "      <td>183.0</td>\n",
       "    </tr>\n",
       "    <tr>\n",
       "      <th>2</th>\n",
       "      <td>.willn1</td>\n",
       "      <td>170</td>\n",
       "      <td>1</td>\n",
       "      <td>34.0</td>\n",
       "    </tr>\n",
       "    <tr>\n",
       "      <th>3</th>\n",
       "      <td>.托托m</td>\n",
       "      <td>170</td>\n",
       "      <td>1</td>\n",
       "      <td>37.0</td>\n",
       "    </tr>\n",
       "    <tr>\n",
       "      <th>4</th>\n",
       "      <td>0000妮</td>\n",
       "      <td>2</td>\n",
       "      <td>1</td>\n",
       "      <td>164.0</td>\n",
       "    </tr>\n",
       "  </tbody>\n",
       "</table>\n",
       "</div>"
      ],
      "text/plain": [
       "         买家昵称    r  f      m\n",
       "0   .blue_ram  146  1   49.0\n",
       "1  .christiny  152  1  183.0\n",
       "2     .willn1  170  1   34.0\n",
       "3        .托托m  170  1   37.0\n",
       "4       0000妮    2  1  164.0"
      ]
     },
     "execution_count": 15,
     "metadata": {},
     "output_type": "execute_result"
    }
   ],
   "source": [
    "# R值：最近一次购买时间距离今日时间\n",
    "r = df.groupby('买家昵称')['付款日期'].max().reset_index()\n",
    "r['r'] = (pd.to_datetime('2019-7-1') - r['付款日期']).dt.days\n",
    "r = r[['买家昵称', 'r']]\n",
    "\n",
    "# F值：计算用户累计购买次数\n",
    "f= df.groupby('买家昵称')['付款日期'].count().reset_index()\n",
    "f.columns = ['买家昵称', 'f']\n",
    "f = f[['f']]\n",
    "\n",
    "# M值：客单价\n",
    "m = df.groupby('买家昵称')['实付金额'].sum().reset_index()\n",
    "m['m'] = m['实付金额'] / f['f']\n",
    "m = m[['m']]\n",
    "\n",
    "# RMF三张表合并\n",
    "rfm = pd.concat([r, f, m], axis=1)\n",
    "rfm.head()"
   ]
  },
  {
   "cell_type": "code",
   "execution_count": 16,
   "metadata": {},
   "outputs": [
    {
     "data": {
      "text/html": [
       "<div>\n",
       "<style scoped>\n",
       "    .dataframe tbody tr th:only-of-type {\n",
       "        vertical-align: middle;\n",
       "    }\n",
       "\n",
       "    .dataframe tbody tr th {\n",
       "        vertical-align: top;\n",
       "    }\n",
       "\n",
       "    .dataframe thead th {\n",
       "        text-align: right;\n",
       "    }\n",
       "</style>\n",
       "<table border=\"1\" class=\"dataframe\">\n",
       "  <thead>\n",
       "    <tr style=\"text-align: right;\">\n",
       "      <th></th>\n",
       "      <th>买家昵称</th>\n",
       "      <th>r</th>\n",
       "      <th>f</th>\n",
       "      <th>m</th>\n",
       "      <th>F-SCORE</th>\n",
       "      <th>R-SCORE</th>\n",
       "      <th>M-SCORE</th>\n",
       "    </tr>\n",
       "  </thead>\n",
       "  <tbody>\n",
       "    <tr>\n",
       "      <th>0</th>\n",
       "      <td>.blue_ram</td>\n",
       "      <td>146</td>\n",
       "      <td>1</td>\n",
       "      <td>49.0</td>\n",
       "      <td>1.0</td>\n",
       "      <td>1.0</td>\n",
       "      <td>1.0</td>\n",
       "    </tr>\n",
       "    <tr>\n",
       "      <th>1</th>\n",
       "      <td>.christiny</td>\n",
       "      <td>152</td>\n",
       "      <td>1</td>\n",
       "      <td>183.0</td>\n",
       "      <td>1.0</td>\n",
       "      <td>1.0</td>\n",
       "      <td>4.0</td>\n",
       "    </tr>\n",
       "    <tr>\n",
       "      <th>2</th>\n",
       "      <td>.willn1</td>\n",
       "      <td>170</td>\n",
       "      <td>1</td>\n",
       "      <td>34.0</td>\n",
       "      <td>1.0</td>\n",
       "      <td>1.0</td>\n",
       "      <td>1.0</td>\n",
       "    </tr>\n",
       "    <tr>\n",
       "      <th>3</th>\n",
       "      <td>.托托m</td>\n",
       "      <td>170</td>\n",
       "      <td>1</td>\n",
       "      <td>37.0</td>\n",
       "      <td>1.0</td>\n",
       "      <td>1.0</td>\n",
       "      <td>1.0</td>\n",
       "    </tr>\n",
       "    <tr>\n",
       "      <th>4</th>\n",
       "      <td>0000妮</td>\n",
       "      <td>2</td>\n",
       "      <td>1</td>\n",
       "      <td>164.0</td>\n",
       "      <td>1.0</td>\n",
       "      <td>5.0</td>\n",
       "      <td>4.0</td>\n",
       "    </tr>\n",
       "  </tbody>\n",
       "</table>\n",
       "</div>"
      ],
      "text/plain": [
       "         买家昵称    r  f      m  F-SCORE  R-SCORE  M-SCORE\n",
       "0   .blue_ram  146  1   49.0      1.0      1.0      1.0\n",
       "1  .christiny  152  1  183.0      1.0      1.0      4.0\n",
       "2     .willn1  170  1   34.0      1.0      1.0      1.0\n",
       "3        .托托m  170  1   37.0      1.0      1.0      1.0\n",
       "4       0000妮    2  1  164.0      1.0      5.0      4.0"
      ]
     },
     "execution_count": 16,
     "metadata": {},
     "output_type": "execute_result"
    }
   ],
   "source": [
    "rfm['F-SCORE'] = pd.cut(rfm['f'], bins=[1,2,3,4,5,1000000], labels=[1, 2, 3, 4, 5], right = False).astype(float)\n",
    "rfm['R-SCORE'] = pd.cut(rfm['r'],bins = [0,30,60,90,120,1000000],labels = [5,4,3,2,1],right = False).astype(float)\n",
    "rfm['M-SCORE'] = pd.cut(rfm['m'],bins = [0,50,100,150,200,1000000],labels = [1,2,3,4,5],right = False).astype(float)\n",
    "rfm.head()"
   ]
  },
  {
   "cell_type": "code",
   "execution_count": 17,
   "metadata": {},
   "outputs": [
    {
     "data": {
      "text/html": [
       "<div>\n",
       "<style scoped>\n",
       "    .dataframe tbody tr th:only-of-type {\n",
       "        vertical-align: middle;\n",
       "    }\n",
       "\n",
       "    .dataframe tbody tr th {\n",
       "        vertical-align: top;\n",
       "    }\n",
       "\n",
       "    .dataframe thead th {\n",
       "        text-align: right;\n",
       "    }\n",
       "</style>\n",
       "<table border=\"1\" class=\"dataframe\">\n",
       "  <thead>\n",
       "    <tr style=\"text-align: right;\">\n",
       "      <th></th>\n",
       "      <th>买家昵称</th>\n",
       "      <th>r</th>\n",
       "      <th>f</th>\n",
       "      <th>m</th>\n",
       "      <th>F-SCORE</th>\n",
       "      <th>R-SCORE</th>\n",
       "      <th>M-SCORE</th>\n",
       "      <th>R是否大于均值</th>\n",
       "      <th>F是否大于均值</th>\n",
       "      <th>M是否大于均值</th>\n",
       "    </tr>\n",
       "  </thead>\n",
       "  <tbody>\n",
       "    <tr>\n",
       "      <th>0</th>\n",
       "      <td>.blue_ram</td>\n",
       "      <td>146</td>\n",
       "      <td>1</td>\n",
       "      <td>49.0</td>\n",
       "      <td>1.0</td>\n",
       "      <td>1.0</td>\n",
       "      <td>1.0</td>\n",
       "      <td>0</td>\n",
       "      <td>0</td>\n",
       "      <td>0</td>\n",
       "    </tr>\n",
       "    <tr>\n",
       "      <th>1</th>\n",
       "      <td>.christiny</td>\n",
       "      <td>152</td>\n",
       "      <td>1</td>\n",
       "      <td>183.0</td>\n",
       "      <td>1.0</td>\n",
       "      <td>1.0</td>\n",
       "      <td>4.0</td>\n",
       "      <td>0</td>\n",
       "      <td>0</td>\n",
       "      <td>1</td>\n",
       "    </tr>\n",
       "    <tr>\n",
       "      <th>2</th>\n",
       "      <td>.willn1</td>\n",
       "      <td>170</td>\n",
       "      <td>1</td>\n",
       "      <td>34.0</td>\n",
       "      <td>1.0</td>\n",
       "      <td>1.0</td>\n",
       "      <td>1.0</td>\n",
       "      <td>0</td>\n",
       "      <td>0</td>\n",
       "      <td>0</td>\n",
       "    </tr>\n",
       "    <tr>\n",
       "      <th>3</th>\n",
       "      <td>.托托m</td>\n",
       "      <td>170</td>\n",
       "      <td>1</td>\n",
       "      <td>37.0</td>\n",
       "      <td>1.0</td>\n",
       "      <td>1.0</td>\n",
       "      <td>1.0</td>\n",
       "      <td>0</td>\n",
       "      <td>0</td>\n",
       "      <td>0</td>\n",
       "    </tr>\n",
       "    <tr>\n",
       "      <th>4</th>\n",
       "      <td>0000妮</td>\n",
       "      <td>2</td>\n",
       "      <td>1</td>\n",
       "      <td>164.0</td>\n",
       "      <td>1.0</td>\n",
       "      <td>5.0</td>\n",
       "      <td>4.0</td>\n",
       "      <td>1</td>\n",
       "      <td>0</td>\n",
       "      <td>1</td>\n",
       "    </tr>\n",
       "  </tbody>\n",
       "</table>\n",
       "</div>"
      ],
      "text/plain": [
       "         买家昵称    r  f      m  F-SCORE  R-SCORE  M-SCORE  R是否大于均值  F是否大于均值  \\\n",
       "0   .blue_ram  146  1   49.0      1.0      1.0      1.0        0        0   \n",
       "1  .christiny  152  1  183.0      1.0      1.0      4.0        0        0   \n",
       "2     .willn1  170  1   34.0      1.0      1.0      1.0        0        0   \n",
       "3        .托托m  170  1   37.0      1.0      1.0      1.0        0        0   \n",
       "4       0000妮    2  1  164.0      1.0      5.0      4.0        1        0   \n",
       "\n",
       "   M是否大于均值  \n",
       "0        0  \n",
       "1        1  \n",
       "2        0  \n",
       "3        0  \n",
       "4        1  "
      ]
     },
     "execution_count": 17,
     "metadata": {},
     "output_type": "execute_result"
    }
   ],
   "source": [
    "# Python中判断后返回的结果是True和False，对应着数值1和0，只要把这个布尔结果乘上1，True就变成了1，False变成了0，处理之后更加易读\n",
    "rfm['R是否大于均值'] = (rfm['R-SCORE'] > rfm['R-SCORE'].mean()) * 1\n",
    "rfm['F是否大于均值'] = (rfm['F-SCORE'] > rfm['F-SCORE'].mean()) * 1\n",
    "rfm['M是否大于均值'] = (rfm['M-SCORE'] > rfm['M-SCORE'].mean()) * 1\n",
    "rfm.head()"
   ]
  },
  {
   "cell_type": "code",
   "execution_count": 18,
   "metadata": {},
   "outputs": [
    {
     "data": {
      "text/html": [
       "<div>\n",
       "<style scoped>\n",
       "    .dataframe tbody tr th:only-of-type {\n",
       "        vertical-align: middle;\n",
       "    }\n",
       "\n",
       "    .dataframe tbody tr th {\n",
       "        vertical-align: top;\n",
       "    }\n",
       "\n",
       "    .dataframe thead th {\n",
       "        text-align: right;\n",
       "    }\n",
       "</style>\n",
       "<table border=\"1\" class=\"dataframe\">\n",
       "  <thead>\n",
       "    <tr style=\"text-align: right;\">\n",
       "      <th></th>\n",
       "      <th>买家昵称</th>\n",
       "      <th>r</th>\n",
       "      <th>f</th>\n",
       "      <th>m</th>\n",
       "      <th>F-SCORE</th>\n",
       "      <th>R-SCORE</th>\n",
       "      <th>M-SCORE</th>\n",
       "      <th>R是否大于均值</th>\n",
       "      <th>F是否大于均值</th>\n",
       "      <th>M是否大于均值</th>\n",
       "      <th>人群数值</th>\n",
       "    </tr>\n",
       "  </thead>\n",
       "  <tbody>\n",
       "    <tr>\n",
       "      <th>0</th>\n",
       "      <td>.blue_ram</td>\n",
       "      <td>146</td>\n",
       "      <td>1</td>\n",
       "      <td>49.0</td>\n",
       "      <td>1.0</td>\n",
       "      <td>1.0</td>\n",
       "      <td>1.0</td>\n",
       "      <td>0</td>\n",
       "      <td>0</td>\n",
       "      <td>0</td>\n",
       "      <td>0</td>\n",
       "    </tr>\n",
       "    <tr>\n",
       "      <th>1</th>\n",
       "      <td>.christiny</td>\n",
       "      <td>152</td>\n",
       "      <td>1</td>\n",
       "      <td>183.0</td>\n",
       "      <td>1.0</td>\n",
       "      <td>1.0</td>\n",
       "      <td>4.0</td>\n",
       "      <td>0</td>\n",
       "      <td>0</td>\n",
       "      <td>1</td>\n",
       "      <td>1</td>\n",
       "    </tr>\n",
       "    <tr>\n",
       "      <th>2</th>\n",
       "      <td>.willn1</td>\n",
       "      <td>170</td>\n",
       "      <td>1</td>\n",
       "      <td>34.0</td>\n",
       "      <td>1.0</td>\n",
       "      <td>1.0</td>\n",
       "      <td>1.0</td>\n",
       "      <td>0</td>\n",
       "      <td>0</td>\n",
       "      <td>0</td>\n",
       "      <td>0</td>\n",
       "    </tr>\n",
       "    <tr>\n",
       "      <th>3</th>\n",
       "      <td>.托托m</td>\n",
       "      <td>170</td>\n",
       "      <td>1</td>\n",
       "      <td>37.0</td>\n",
       "      <td>1.0</td>\n",
       "      <td>1.0</td>\n",
       "      <td>1.0</td>\n",
       "      <td>0</td>\n",
       "      <td>0</td>\n",
       "      <td>0</td>\n",
       "      <td>0</td>\n",
       "    </tr>\n",
       "    <tr>\n",
       "      <th>4</th>\n",
       "      <td>0000妮</td>\n",
       "      <td>2</td>\n",
       "      <td>1</td>\n",
       "      <td>164.0</td>\n",
       "      <td>1.0</td>\n",
       "      <td>5.0</td>\n",
       "      <td>4.0</td>\n",
       "      <td>1</td>\n",
       "      <td>0</td>\n",
       "      <td>1</td>\n",
       "      <td>101</td>\n",
       "    </tr>\n",
       "  </tbody>\n",
       "</table>\n",
       "</div>"
      ],
      "text/plain": [
       "         买家昵称    r  f      m  F-SCORE  R-SCORE  M-SCORE  R是否大于均值  F是否大于均值  \\\n",
       "0   .blue_ram  146  1   49.0      1.0      1.0      1.0        0        0   \n",
       "1  .christiny  152  1  183.0      1.0      1.0      4.0        0        0   \n",
       "2     .willn1  170  1   34.0      1.0      1.0      1.0        0        0   \n",
       "3        .托托m  170  1   37.0      1.0      1.0      1.0        0        0   \n",
       "4       0000妮    2  1  164.0      1.0      5.0      4.0        1        0   \n",
       "\n",
       "   M是否大于均值  人群数值  \n",
       "0        0     0  \n",
       "1        1     1  \n",
       "2        0     0  \n",
       "3        0     0  \n",
       "4        1   101  "
      ]
     },
     "execution_count": 18,
     "metadata": {},
     "output_type": "execute_result"
    }
   ],
   "source": [
    "rfm['人群数值'] = (rfm['R是否大于均值'] * 100) + (rfm['F是否大于均值'] * 10) + (rfm['M是否大于均值'] * 1)\n",
    "rfm.head()"
   ]
  },
  {
   "cell_type": "code",
   "execution_count": 19,
   "metadata": {},
   "outputs": [],
   "source": [
    "#判断R/F/M是否大于均值\n",
    "def transform_label(x):\n",
    "    if x == 111:\n",
    "        label = '重要价值客户'\n",
    "    elif x == 110:\n",
    "        label = '消费潜力客户'\n",
    "    elif x == 101:\n",
    "        label = '频次深耕客户'\n",
    "    elif x == 100:\n",
    "        label = '新客户'\n",
    "    elif x == 11:\n",
    "        label = '重要价值流失预警客户'\n",
    "    elif x == 10:\n",
    "        label = '一般客户'\n",
    "    elif x == 1:\n",
    "        label = '高消费唤回客户'\n",
    "    elif x == 0:\n",
    "        label = '流失客户'\n",
    "    return label"
   ]
  },
  {
   "cell_type": "code",
   "execution_count": 20,
   "metadata": {},
   "outputs": [
    {
     "data": {
      "text/html": [
       "<div>\n",
       "<style scoped>\n",
       "    .dataframe tbody tr th:only-of-type {\n",
       "        vertical-align: middle;\n",
       "    }\n",
       "\n",
       "    .dataframe tbody tr th {\n",
       "        vertical-align: top;\n",
       "    }\n",
       "\n",
       "    .dataframe thead th {\n",
       "        text-align: right;\n",
       "    }\n",
       "</style>\n",
       "<table border=\"1\" class=\"dataframe\">\n",
       "  <thead>\n",
       "    <tr style=\"text-align: right;\">\n",
       "      <th></th>\n",
       "      <th>买家昵称</th>\n",
       "      <th>r</th>\n",
       "      <th>f</th>\n",
       "      <th>m</th>\n",
       "      <th>F-SCORE</th>\n",
       "      <th>R-SCORE</th>\n",
       "      <th>M-SCORE</th>\n",
       "      <th>R是否大于均值</th>\n",
       "      <th>F是否大于均值</th>\n",
       "      <th>M是否大于均值</th>\n",
       "      <th>人群数值</th>\n",
       "      <th>人群类型</th>\n",
       "    </tr>\n",
       "  </thead>\n",
       "  <tbody>\n",
       "    <tr>\n",
       "      <th>0</th>\n",
       "      <td>.blue_ram</td>\n",
       "      <td>146</td>\n",
       "      <td>1</td>\n",
       "      <td>49.0</td>\n",
       "      <td>1.0</td>\n",
       "      <td>1.0</td>\n",
       "      <td>1.0</td>\n",
       "      <td>0</td>\n",
       "      <td>0</td>\n",
       "      <td>0</td>\n",
       "      <td>0</td>\n",
       "      <td>流失客户</td>\n",
       "    </tr>\n",
       "    <tr>\n",
       "      <th>1</th>\n",
       "      <td>.christiny</td>\n",
       "      <td>152</td>\n",
       "      <td>1</td>\n",
       "      <td>183.0</td>\n",
       "      <td>1.0</td>\n",
       "      <td>1.0</td>\n",
       "      <td>4.0</td>\n",
       "      <td>0</td>\n",
       "      <td>0</td>\n",
       "      <td>1</td>\n",
       "      <td>1</td>\n",
       "      <td>高消费唤回客户</td>\n",
       "    </tr>\n",
       "    <tr>\n",
       "      <th>2</th>\n",
       "      <td>.willn1</td>\n",
       "      <td>170</td>\n",
       "      <td>1</td>\n",
       "      <td>34.0</td>\n",
       "      <td>1.0</td>\n",
       "      <td>1.0</td>\n",
       "      <td>1.0</td>\n",
       "      <td>0</td>\n",
       "      <td>0</td>\n",
       "      <td>0</td>\n",
       "      <td>0</td>\n",
       "      <td>流失客户</td>\n",
       "    </tr>\n",
       "    <tr>\n",
       "      <th>3</th>\n",
       "      <td>.托托m</td>\n",
       "      <td>170</td>\n",
       "      <td>1</td>\n",
       "      <td>37.0</td>\n",
       "      <td>1.0</td>\n",
       "      <td>1.0</td>\n",
       "      <td>1.0</td>\n",
       "      <td>0</td>\n",
       "      <td>0</td>\n",
       "      <td>0</td>\n",
       "      <td>0</td>\n",
       "      <td>流失客户</td>\n",
       "    </tr>\n",
       "    <tr>\n",
       "      <th>4</th>\n",
       "      <td>0000妮</td>\n",
       "      <td>2</td>\n",
       "      <td>1</td>\n",
       "      <td>164.0</td>\n",
       "      <td>1.0</td>\n",
       "      <td>5.0</td>\n",
       "      <td>4.0</td>\n",
       "      <td>1</td>\n",
       "      <td>0</td>\n",
       "      <td>1</td>\n",
       "      <td>101</td>\n",
       "      <td>频次深耕客户</td>\n",
       "    </tr>\n",
       "  </tbody>\n",
       "</table>\n",
       "</div>"
      ],
      "text/plain": [
       "         买家昵称    r  f      m  F-SCORE  R-SCORE  M-SCORE  R是否大于均值  F是否大于均值  \\\n",
       "0   .blue_ram  146  1   49.0      1.0      1.0      1.0        0        0   \n",
       "1  .christiny  152  1  183.0      1.0      1.0      4.0        0        0   \n",
       "2     .willn1  170  1   34.0      1.0      1.0      1.0        0        0   \n",
       "3        .托托m  170  1   37.0      1.0      1.0      1.0        0        0   \n",
       "4       0000妮    2  1  164.0      1.0      5.0      4.0        1        0   \n",
       "\n",
       "   M是否大于均值  人群数值     人群类型  \n",
       "0        0     0     流失客户  \n",
       "1        1     1  高消费唤回客户  \n",
       "2        0     0     流失客户  \n",
       "3        0     0     流失客户  \n",
       "4        1   101   频次深耕客户  "
      ]
     },
     "execution_count": 20,
     "metadata": {},
     "output_type": "execute_result"
    }
   ],
   "source": [
    "rfm['人群类型'] = rfm['人群数值'].apply(transform_label)\n",
    "rfm.head()"
   ]
  },
  {
   "cell_type": "code",
   "execution_count": 21,
   "metadata": {},
   "outputs": [
    {
     "data": {
      "text/html": [
       "<div>\n",
       "<style scoped>\n",
       "    .dataframe tbody tr th:only-of-type {\n",
       "        vertical-align: middle;\n",
       "    }\n",
       "\n",
       "    .dataframe tbody tr th {\n",
       "        vertical-align: top;\n",
       "    }\n",
       "\n",
       "    .dataframe thead th {\n",
       "        text-align: right;\n",
       "    }\n",
       "</style>\n",
       "<table border=\"1\" class=\"dataframe\">\n",
       "  <thead>\n",
       "    <tr style=\"text-align: right;\">\n",
       "      <th></th>\n",
       "      <th>人群类型</th>\n",
       "      <th>人数</th>\n",
       "      <th>人数占比</th>\n",
       "      <th>消费总金额</th>\n",
       "      <th>消费占比</th>\n",
       "    </tr>\n",
       "  </thead>\n",
       "  <tbody>\n",
       "    <tr>\n",
       "      <th>0</th>\n",
       "      <td>高消费唤回客户</td>\n",
       "      <td>7130</td>\n",
       "      <td>0.280499</td>\n",
       "      <td>1282069.0</td>\n",
       "      <td>0.366041</td>\n",
       "    </tr>\n",
       "    <tr>\n",
       "      <th>1</th>\n",
       "      <td>流失客户</td>\n",
       "      <td>6670</td>\n",
       "      <td>0.262402</td>\n",
       "      <td>443773.0</td>\n",
       "      <td>0.126701</td>\n",
       "    </tr>\n",
       "    <tr>\n",
       "      <th>2</th>\n",
       "      <td>频次深耕客户</td>\n",
       "      <td>5349</td>\n",
       "      <td>0.210433</td>\n",
       "      <td>956139.0</td>\n",
       "      <td>0.272985</td>\n",
       "    </tr>\n",
       "    <tr>\n",
       "      <th>3</th>\n",
       "      <td>新客户</td>\n",
       "      <td>4218</td>\n",
       "      <td>0.165939</td>\n",
       "      <td>270412.0</td>\n",
       "      <td>0.077205</td>\n",
       "    </tr>\n",
       "    <tr>\n",
       "      <th>4</th>\n",
       "      <td>重要价值客户</td>\n",
       "      <td>808</td>\n",
       "      <td>0.031787</td>\n",
       "      <td>282654.0</td>\n",
       "      <td>0.080700</td>\n",
       "    </tr>\n",
       "    <tr>\n",
       "      <th>5</th>\n",
       "      <td>重要价值流失预警客户</td>\n",
       "      <td>499</td>\n",
       "      <td>0.019631</td>\n",
       "      <td>160455.0</td>\n",
       "      <td>0.045811</td>\n",
       "    </tr>\n",
       "    <tr>\n",
       "      <th>6</th>\n",
       "      <td>消费潜力客户</td>\n",
       "      <td>482</td>\n",
       "      <td>0.018962</td>\n",
       "      <td>69369.0</td>\n",
       "      <td>0.019805</td>\n",
       "    </tr>\n",
       "    <tr>\n",
       "      <th>7</th>\n",
       "      <td>一般客户</td>\n",
       "      <td>263</td>\n",
       "      <td>0.010347</td>\n",
       "      <td>37661.0</td>\n",
       "      <td>0.010753</td>\n",
       "    </tr>\n",
       "  </tbody>\n",
       "</table>\n",
       "</div>"
      ],
      "text/plain": [
       "         人群类型    人数      人数占比      消费总金额      消费占比\n",
       "0     高消费唤回客户  7130  0.280499  1282069.0  0.366041\n",
       "1        流失客户  6670  0.262402   443773.0  0.126701\n",
       "2      频次深耕客户  5349  0.210433   956139.0  0.272985\n",
       "3         新客户  4218  0.165939   270412.0  0.077205\n",
       "4      重要价值客户   808  0.031787   282654.0  0.080700\n",
       "5  重要价值流失预警客户   499  0.019631   160455.0  0.045811\n",
       "6      消费潜力客户   482  0.018962    69369.0  0.019805\n",
       "7        一般客户   263  0.010347    37661.0  0.010753"
      ]
     },
     "execution_count": 21,
     "metadata": {},
     "output_type": "execute_result"
    }
   ],
   "source": [
    "# 人群占比\n",
    "count = rfm['人群类型'].value_counts().reset_index()\n",
    "count.columns = ['人群类型', '人数']\n",
    "count['人数占比'] = count['人数'] / count['人数'].sum()\n",
    "\n",
    "\n",
    "# 消费占比\n",
    "rfm['消费总金额'] = rfm['m'] * rfm['f']\n",
    "\n",
    "rfm_group = rfm.groupby('人群类型')['消费总金额'].sum().reset_index()\n",
    "\n",
    "\n",
    "rfm_group['消费占比'] = rfm_group['消费总金额'] / rfm_group['消费总金额'].sum()\n",
    "rfm_group\n",
    "\n",
    "group = pd.merge(count, rfm_group)\n",
    "group"
   ]
  },
  {
   "cell_type": "markdown",
   "metadata": {
    "slideshow": {
     "slide_type": "-"
    }
   },
   "source": [
    "## 数据可视化"
   ]
  },
  {
   "cell_type": "code",
   "execution_count": 22,
   "metadata": {
    "scrolled": true
   },
   "outputs": [
    {
     "data": {
      "text/plain": [
       "<matplotlib.axes._subplots.AxesSubplot at 0x11c8cdfd0>"
      ]
     },
     "execution_count": 22,
     "metadata": {},
     "output_type": "execute_result"
    },
    {
     "data": {
      "image/png": "[encoded data removed]",
      "text/plain": [
       "<Figure size 432x288 with 1 Axes>"
      ]
     },
     "metadata": {
      "needs_background": "light"
     },
     "output_type": "display_data"
    }
   ],
   "source": [
    "group.plot(x='人群类型', y='人数', kind='barh')"
   ]
  },
  {
   "cell_type": "code",
   "execution_count": 23,
   "metadata": {},
   "outputs": [
    {
     "data": {
      "text/plain": [
       "<matplotlib.axes._subplots.AxesSubplot at 0x110223190>"
      ]
     },
     "execution_count": 23,
     "metadata": {},
     "output_type": "execute_result"
    },
    {
     "data": {
      "image/png": "[encoded data removed]",
      "text/plain": [
       "<Figure size 432x288 with 1 Axes>"
      ]
     },
     "metadata": {
      "needs_background": "light"
     },
     "output_type": "display_data"
    }
   ],
   "source": [
    "group.plot(x='人群类型', y='消费总金额', kind='bar')"
   ]
  },
  {
   "cell_type": "code",
   "execution_count": 91,
   "metadata": {},
   "outputs": [
    {
     "data": {
      "image/png": "[encoded data removed]",
      "text/plain": [
       "<Figure size 1600x640 with 2 Axes>"
      ]
     },
     "metadata": {
      "needs_background": "light"
     },
     "output_type": "display_data"
    }
   ],
   "source": [
    "fig1,ax1=plt.subplots(figsize=(20,8),dpi=80)\n",
    "ax1.bar(count['人群类型'],count['人数'],color = 'green',alpha=0.5,width=0.4,label= '人数'),#rotation=45\n",
    "ax1.legend()\n",
    "\n",
    "\n",
    "ax2 = ax1.twinx()\n",
    "ax2.plot(count['人群类型'],count['人数占比'],color = 'b',alpha=0.5,label = '人数占比')\n",
    "ax2.legend()\n",
    "plt.show()"
   ]
  },
  {
   "cell_type": "code",
   "execution_count": 50,
   "metadata": {},
   "outputs": [],
   "source": [
    "\n",
    "ax2 = ax1.twinx()\n",
    "ax2.plot(count['人群类型'],count['人数占比'],color = 'b',alpha=0.5,label = '人数占比')\n",
    "ax2.legend(labels=['人数','人数占比'],loc='best')\n",
    "plt.show()"
   ]
  },
  {
   "cell_type": "markdown",
   "metadata": {},
   "source": [
    "## 结论"
   ]
  }
 ],
 "metadata": {
  "kernelspec": {
   "display_name": "Python 3",
   "language": "python",
   "name": "python3"
  },
  "language_info": {
   "codemirror_mode": {
    "name": "ipython",
    "version": 3
   },
   "file_extension": ".py",
   "mimetype": "text/x-python",
   "name": "python",
   "nbconvert_exporter": "python",
   "pygments_lexer": "ipython3",
   "version": "3.8.2"
  },
  "toc": {
   "base_numbering": 1,
   "nav_menu": {},
   "number_sections": true,
   "sideBar": true,
   "skip_h1_title": false,
   "title_cell": "Table of Contents",
   "title_sidebar": "Contents",
   "toc_cell": false,
   "toc_position": {
    "height": "calc(100% - 180px)",
    "left": "10px",
    "top": "150px",
    "width": "338.391px"
   },
   "toc_section_display": true,
   "toc_window_display": true
  }
 },
 "nbformat": 4,
 "nbformat_minor": 4
}
